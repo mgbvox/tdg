{
 "cells": [
  {
   "cell_type": "code",
   "outputs": [],
   "source": [
    "import datasets\n",
    "from difflib import SequenceMatcher\n",
    "import numpy as np\n",
    "from tqdm import tqdm\n",
    "import itertools"
   ],
   "metadata": {
    "collapsed": false,
    "ExecuteTime": {
     "end_time": "2024-04-03T14:51:37.824605Z",
     "start_time": "2024-04-03T14:51:36.759387Z"
    }
   },
   "id": "8304d1474beba8e",
   "execution_count": 1
  },
  {
   "cell_type": "code",
   "outputs": [
    {
     "name": "stdout",
     "output_type": "stream",
     "text": [
      "asdf\n"
     ]
    }
   ],
   "source": [
    "ep = datasets.load_dataset(\"evalplus/humanevalplus\")\n",
    "mb = datasets.load_dataset(\"evalplus/mbppplus\")"
   ],
   "metadata": {
    "collapsed": true,
    "ExecuteTime": {
     "end_time": "2024-04-03T14:52:18.287223Z",
     "start_time": "2024-04-03T14:52:07.100318Z"
    }
   },
   "id": "initial_id",
   "execution_count": 3
  },
  {
   "cell_type": "code",
   "outputs": [
    {
     "data": {
      "text/plain": "['assert set(similar_elements((3, 4, 5, 6),(5, 7, 4, 10))) == set((4, 5))',\n 'assert set(similar_elements((1, 2, 3, 4),(5, 4, 3, 7))) == set((3, 4))',\n 'assert set(similar_elements((11, 12, 14, 13),(17, 15, 14, 13))) == set((13, 14))']"
     },
     "execution_count": 4,
     "metadata": {},
     "output_type": "execute_result"
    }
   ],
   "source": [
    "mb['test']['test_list'][0]"
   ],
   "metadata": {
    "collapsed": false,
    "ExecuteTime": {
     "end_time": "2024-04-03T14:52:22.756658Z",
     "start_time": "2024-04-03T14:52:22.746848Z"
    }
   },
   "id": "e9cd0a52593fc152",
   "execution_count": 4
  },
  {
   "cell_type": "code",
   "outputs": [],
   "source": [
    "ds = ep['test']"
   ],
   "metadata": {
    "collapsed": false,
    "ExecuteTime": {
     "end_time": "2024-04-03T14:52:47.141999Z",
     "start_time": "2024-04-03T14:52:47.139412Z"
    }
   },
   "id": "46892c1b3e07f18a",
   "execution_count": 7
  },
  {
   "cell_type": "markdown",
   "source": [],
   "metadata": {
    "collapsed": false
   },
   "id": "628e518bf418443d"
  },
  {
   "cell_type": "code",
   "outputs": [],
   "source": [
    "import ast"
   ],
   "metadata": {
    "collapsed": false,
    "ExecuteTime": {
     "end_time": "2024-04-03T14:54:15.234849Z",
     "start_time": "2024-04-03T14:54:15.232861Z"
    }
   },
   "id": "6e765a0fd69f898d",
   "execution_count": 11
  },
  {
   "cell_type": "code",
   "outputs": [],
   "source": [
    "tree = ast.parse(ds['test'][0])"
   ],
   "metadata": {
    "collapsed": false,
    "ExecuteTime": {
     "end_time": "2024-04-03T14:54:21.944730Z",
     "start_time": "2024-04-03T14:54:21.924350Z"
    }
   },
   "id": "60c152535025d0a8",
   "execution_count": 12
  },
  {
   "cell_type": "code",
   "outputs": [
    {
     "name": "stdout",
     "output_type": "stream",
     "text": [
      "<ast.Module object at 0x30894eb60>\n"
     ]
    }
   ],
   "source": [
    "tree"
   ],
   "metadata": {
    "collapsed": false,
    "ExecuteTime": {
     "end_time": "2024-04-03T14:54:31.345421Z",
     "start_time": "2024-04-03T14:54:31.343380Z"
    }
   },
   "id": "68f60a86be6c10c2",
   "execution_count": 14
  },
  {
   "cell_type": "code",
   "outputs": [],
   "source": [],
   "metadata": {
    "collapsed": false
   },
   "id": "202cea4ae5bdbf3f"
  },
  {
   "cell_type": "code",
   "outputs": [],
   "source": [],
   "metadata": {
    "collapsed": false
   },
   "id": "1debfbac764117eb"
  },
  {
   "cell_type": "code",
   "outputs": [],
   "source": [],
   "metadata": {
    "collapsed": false
   },
   "id": "45d1f49215370d48"
  },
  {
   "cell_type": "code",
   "outputs": [],
   "source": [
    "\n",
    "\n",
    "\n",
    "matches = set()\n",
    "\n",
    "\n",
    "tests = mb['test']['test']\n",
    "for a,b in tqdm(itertools.product(tests, tests), total=len(tests)**2):\n",
    "    if a != b:\n",
    "        match = SequenceMatcher(None, a,b).find_longest_match()\n",
    "        matches.add(a[match.a: match.a + match.size])"
   ],
   "metadata": {
    "collapsed": false
   },
   "id": "6807d85f4c658cf5",
   "execution_count": null
  },
  {
   "cell_type": "code",
   "outputs": [],
   "source": [
    "for m in matches:\n",
    "    print(m)"
   ],
   "metadata": {
    "collapsed": false
   },
   "id": "750b78881feda1af",
   "execution_count": null
  },
  {
   "cell_type": "code",
   "outputs": [],
   "source": [],
   "metadata": {
    "collapsed": false
   },
   "id": "4de24e01614d1941",
   "execution_count": null
  },
  {
   "cell_type": "code",
   "outputs": [],
   "source": [
    "set(str(x) for x in mb['test']['test_imports'])"
   ],
   "metadata": {
    "collapsed": false
   },
   "id": "30cbb4e2c8b3ee92",
   "execution_count": null
  },
  {
   "cell_type": "code",
   "outputs": [],
   "source": [
    "from matplotlib import pyplot as plt\n",
    "\n",
    "\n",
    "ds = mb['test']\n",
    "\n",
    "\n",
    "lens = []\n",
    "for t in ds['test']:\n",
    "    lens.append(len(t))\n",
    "    if len(t) == min(lens):\n",
    "        print(t)\n",
    "        print(\"-----\\n\")\n",
    "\n",
    "plt.hist(lens)\n",
    "plt.show()"
   ],
   "metadata": {
    "collapsed": false
   },
   "id": "d78770441aaa0960",
   "execution_count": null
  },
  {
   "cell_type": "code",
   "outputs": [],
   "source": [
    "ds"
   ],
   "metadata": {
    "collapsed": false
   },
   "id": "24e2b0e81a572a9b",
   "execution_count": null
  },
  {
   "cell_type": "code",
   "outputs": [],
   "source": [],
   "metadata": {
    "collapsed": false
   },
   "id": "bb903aa88891bfb8",
   "execution_count": null
  },
  {
   "cell_type": "code",
   "outputs": [],
   "source": [
    "print(ep['test']['test'][0])"
   ],
   "metadata": {
    "collapsed": false
   },
   "id": "f1dd169910e631a3",
   "execution_count": null
  },
  {
   "cell_type": "code",
   "outputs": [],
   "source": [
    "ds = datasets.load_dataset(\"FloatAI/HumanEval-XL\", \"python\")"
   ],
   "metadata": {
    "collapsed": false
   },
   "id": "ca2df74322583f2b",
   "execution_count": null
  },
  {
   "cell_type": "code",
   "outputs": [],
   "source": [
    "for key in ['task_id', 'language', 'prompt', 'description', 'test', 'entry_point', 'canonical_solution', 'natural_language']:\n",
    "    print(key.upper())\n",
    "    print(ds['English'][key][10])\n",
    "    print('___________')"
   ],
   "metadata": {
    "collapsed": false
   },
   "id": "a951dbfcd309211f",
   "execution_count": null
  },
  {
   "cell_type": "code",
   "outputs": [],
   "source": [
    "len(ds['English'])"
   ],
   "metadata": {
    "collapsed": false
   },
   "id": "ad18776fc8108f9b",
   "execution_count": null
  },
  {
   "cell_type": "code",
   "outputs": [],
   "source": [],
   "metadata": {
    "collapsed": false
   },
   "id": "f9455c98b8f8d1ce"
  }
 ],
 "metadata": {
  "kernelspec": {
   "display_name": "Python 3",
   "language": "python",
   "name": "python3"
  },
  "language_info": {
   "codemirror_mode": {
    "name": "ipython",
    "version": 2
   },
   "file_extension": ".py",
   "mimetype": "text/x-python",
   "name": "python",
   "nbconvert_exporter": "python",
   "pygments_lexer": "ipython2",
   "version": "2.7.6"
  }
 },
 "nbformat": 4,
 "nbformat_minor": 5
}
