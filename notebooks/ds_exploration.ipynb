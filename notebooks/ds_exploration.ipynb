{
 "cells": [
  {
   "cell_type": "code",
   "outputs": [],
   "source": [
    "import datasets"
   ],
   "metadata": {
    "collapsed": false,
    "ExecuteTime": {
     "end_time": "2024-03-27T14:48:34.358392Z",
     "start_time": "2024-03-27T14:48:34.355573Z"
    }
   },
   "id": "8304d1474beba8e",
   "execution_count": 3
  },
  {
   "cell_type": "code",
   "outputs": [
    {
     "data": {
      "text/plain": "Downloading readme:   0%|          | 0.00/28.0 [00:00<?, ?B/s]",
      "application/vnd.jupyter.widget-view+json": {
       "version_major": 2,
       "version_minor": 0,
       "model_id": "697ee284aa7b4893aa39c584978632cc"
      }
     },
     "metadata": {},
     "output_type": "display_data"
    },
    {
     "name": "stderr",
     "output_type": "stream",
     "text": [
      "Downloading data: 100%|██████████| 5.08M/5.08M [00:01<00:00, 2.55MB/s]\n"
     ]
    },
    {
     "data": {
      "text/plain": "Generating test split: 0 examples [00:00, ? examples/s]",
      "application/vnd.jupyter.widget-view+json": {
       "version_major": 2,
       "version_minor": 0,
       "model_id": "0073c0e65854421c8f3d002e87133840"
      }
     },
     "metadata": {},
     "output_type": "display_data"
    }
   ],
   "source": [
    "ep = datasets.load_dataset(\"evalplus/humanevalplus\")\n",
    "mb = datasets.load_dataset(\"evalplus/mbppplus\")"
   ],
   "metadata": {
    "collapsed": true,
    "ExecuteTime": {
     "end_time": "2024-03-27T14:53:58.604470Z",
     "start_time": "2024-03-27T14:53:53.564689Z"
    }
   },
   "id": "initial_id",
   "execution_count": 10
  },
  {
   "cell_type": "code",
   "outputs": [
    {
     "name": "stdout",
     "output_type": "stream",
     "text": [
      "\n",
      "\n",
      "import numpy as np\n",
      "\n",
      "def is_floats(x) -> bool:\n",
      "    # check if it is float; List[float]; Tuple[float]\n",
      "    if isinstance(x, float):\n",
      "        return True\n",
      "    if isinstance(x, (list, tuple)):\n",
      "        return all(isinstance(i, float) for i in x)\n",
      "    if isinstance(x, np.ndarray):\n",
      "        return x.dtype == np.float64 or x.dtype == np.float32\n",
      "    return False\n",
      "\n",
      "\n",
      "def assertion(out, exp, atol):\n",
      "    exact_match = out == exp\n",
      "\n",
      "    if atol == 0 and is_floats(exp):\n",
      "        atol = 1e-6\n",
      "    if not exact_match and atol != 0:\n",
      "        np.testing.assert_allclose(out, exp, atol=atol)\n",
      "    else:\n",
      "        assert exact_match\n",
      "\n",
      "\n",
      "inputs = [[(3, 4, 5, 6), (5, 7, 4, 10)], [(1, 2, 3, 4), (5, 4, 3, 7)], [(11, 12, 14, 13), (17, 15, 14, 13)], [(), ()], [(1, 2, 3), ()], [(), (4, 5, 6)], [(1, 2, 3, 4, 5, 6, 7, 8, 9, 10), (11, 12, 13, 14, 15, 16, 17, 18, 19, 20)], [(1, 2, 2, 3, 3, 4, 4, 5, 5), (5, 5, 6, 6, 7, 7, 8, 8, 9, 9)], [(100, 200, 300, 400, 500), (100, 200, 400, 500)], [(10, 20, 30, 40, 50), (50, 60, 70, 80)], [(1, 2, 3, 4, 4, 5, 5), (4, 5, 6)], [(), (True, False, False, False, False, True)], [(1, 2, 3, 4, 5, 6, 7, 8, 9, 10), (11, 12, 13, 14, 15, 16, 17, 18, 19, 20, 15)], [(1, 2, 3, 4, 5, 6, 7, 8, 9, 10), (11, 12, 13, 14, 15, 16, 17, 19, 20, 15)], [(1, 2, 3, 1), ()], [('kx', 'DHBNiditD'), (4, 5, 6)], [(1, 2, 2, 70, 3, 4, 4, 5, 5, 4, 3), (5, 5, 6, 6, 7, 7, 8, 8, 9, 9)], [(False, False, False, False, True), (False, False, False, False, False)], [(1, 2, 3, 4, 5, 6, 7, 8, 9, 10), (1, 2, 3, 4, 5, 6, 7, 8, 9, 10)], [(8.514020219858878, -25.802494572247724, 5.873698915603498, 38.044354120134614, 11.222647627029431, 26.914534243589074, 78.41454157921689, -80.88414039955265), ('ceRuVEV', 'aAXslGdbD', 'DHBNiditD', 'fHRtFowQVh', 'ITntCqEvPi', 'SmJpP', 'DHBNiditD', 'kx', 'x')], [(False, False, False, False, False), (False, False, False, False, False)], [(), (5, 6)], [(1, 2, 2, 70, 3, 4, 4, 5, 5, 4, 3, 2), (1, 2, 2, 70, 3, 4, 4, 5, 5, 4, 3, 2)], [(1, 2, 3, 4, 5, 6, 12, 7, 8, 9, 0, 10), (1, 3, 4, 5, 6, 7, 8, 9, 0, 10)], [(1, 2, 3, 4, 5, 6, 12, 7, 8, 9, 0, 10, 10), (1, 3, 4, 5, 6, 7, 8, 9, 0, 10)], [(), (True, False, False, False)], [(4, 5, 16, 5), (1, 6, 3, 4, 4, 5, 5)], [('DRwvS', 'FdzAtAvnsS', 'ITntCqEvPi', 'nlUsIhET', 'ITntCqEvPi', 'x'), (True, False, True, False, True, False, True)], [(1, 2, 20), ()], [(11, 12, 13, 14, 15, 16, 17, 19, 20, 15), (11, 12, 13, 14, 15, 16, 17, 19, 20, 15)], [(1, 2, 3, 4, 5, 6, 12, 7, 8, 9, 0, 10, 10), (300, 1, 3, 4, 5, 6, 7, 8, 9, 0, 9)], [(False, False, False, False, False), (False, False, False, False)], [(1, 400, 3, 4, 4, 5, 5), (1, 400, 3, 4, 4, 5, 5, 5)], [(), (6,)], [(1, 2, 2, 3, 3, 4, 4, 5, 5), (5, 5, 6, 6, 7, 7, 8, 8, 9, 9, 7)], [(1, 2, 3, 4, 5, 6, 7, 8, 9, 2, 10), (1, 2, 3, 4, 5, 6, 7, 8, 60, 10, 1)], [(1, 2, 3, 4, 5, 6, 7, 8, 9, 10), (1, 2, 3, 4, 4, 6, 7, 8, 9, 10)], [(1, 2, 2, 3, 3, 4, 4, 5, 5, 3), (5, 5, 6, 6, 7, 7, 8, 8, 9, 9)], [(100, 200, 300, 400, 500, 400, 300), (100, 200, 400, 500)], [('DRwvS', 'ITntCqEvPi', 'tUqF', 'ITntCqEvPi'), (4, 6, 6)], [(5, 2, 3), (1, 2, 3)], [(), (500, -45, 96, 22)], [(1, 2, 2, 70, 3, 4, 4, 5, 69, 5, 4, 3, 2), (1, 2, 2, 70, 3, 4, 4, 5, 69, 5, 4, 3, 2)], [(5, 5, 6, 6, 7, 7, 8, 8, 9, 9, 7), (5, 5, 6, 6, 7, 7, 8, 8, 9, 9)], [(1, 2, 2, 2, 70, 3, 4, 4, 5, 5, 4, 3), (5, 5, 6, 6, 7, 7, 8, 8, 9, 9)], [(1, 2, 2, 3, 3, 4, 4, 5, 5, 3), (1, 2, 2, 3, 3, 4, 4, 5, 5, 3)], [('DRwvS', 'ITntCqEvPi', 'SmJpP', 'tUqF', 'ITntCqEvPi'), (4, 6, 6)], [(5, 5, 6, 6, 7, 8, 9, 9), (5, 5, 6, 6, 7, 7, 8, 9, 9)], [(1, 2, 20), (1, 2, 20)], [(1, 2, 3, 4, 5, 6, 7, 8, 9, 10, 10), (11, 12, 13, 14, 15, 16, 17, 19, 20, 15)], [(12, 2, 20), (1, 2, 19)], [(11, 12, 13, 14, 15, 16, 17, 19, 20, 15), (11, 12, 13, 14, 15, 16, 17, 19, 20, 15, 20)], [(12, 2, 21), (12, 2, 20)], [(1, 2, 3, 5, 6, 12, 7, 8, 9, 10, 10), (1, 2, 3, 4, 5, 6, 12, 7, 8, 12, 0, 10, 10)], [(12, 2, 20, 20), (12, 2, 20)], [(6,), (6,)], [('LsgdJOGUO', 'nsDO', 'ceRuVEV', 'BohovaWqz', 'vovSNBB', 'BohovaWqz'), (True, False, False)], [('DRwvS', 'ITntCqEvPi', 'SmJpP', 'DRwvS'), ('DRwvS', 'ITntCqEvPi', 'SmJpP', 'tUqF', 'ITntCqEvPi')], [(300, 1, 3, 4, 5, 6, 8, 9, 0, 9), (300, 1, 3, 4, 5, 6, 7, 8, 9, 0, 9)], [(False, True, False, True, False, False, True, False, True), (False, True, False, True, False, False, True, False, True)], [(1, 2, 3, 4, 5, 6, 7, 8, 9), (11, 12, 13, 14, 15, 16, 17, 18, 19, 20, 15)], [(1, 3, 2, 3), (1, 3, 2, 3)], [(False, False, False, False, False), (False, False, False, False, True, False)], [('kx', 'DHBNiditD', 'DHBNiditD'), (4, 5, 6)], [(1, 1, 2, 3, 1), ()], [(1, 2, 3, 5, 6, 6, 7, 8, 9, 10), (1, 2, 3, 4, 5, 6, 6, 7, 8, 9, 10)], [(1, 2, 3, 4, 5, 6, 7, -45, 8, 9, 2, 10), (1, 2, 3, 4, 5, 6, 7, 8, 9, 2, 10)], [(26, True, 26.914534243589074, -44), ()], [(11, 12, 13, 14, 15, 70, 17, 18, 19, 20, 15), (11, 12, 13, 14, 15, 70, 17, 18, 19, 20, 15)], [(300, 1, 3, 2, 4, 5, 6, 8, 9, 0, 9), (300, 1, 3, 4, 5, 6, 7, 8, 9, 0, 9)], [(100, 201, 300, 400, 500), (100, 200, 300, 400, 500)], [(1, 2, 3, 4, 5, 6, 12, 7, 8, 9, 0, 10, 10), (7, 1, 2, 3, 4, 5, 6, 12, 7, 8, 9, 0, 10, 10)], [(False, True, False, False), (False, False, False, False)], [(7, 1, 2, 3, 4, 4, 6, 12, 7, 8, 9, 0, 10, 10), (7, 1, 2, 3, 4, 5, 6, 12, 7, 8, 9, 0, 10, 10)], [(4, 16, 5), (4, 5, 16, 5)], [(1, 2, 3, 4, 5, 6, 6, 7, 8, 9, 9), (1, 2, 3, 5, 6, 6, 7, 8, 9, 10)], [(11, 12, 13, 14, 15, 16, 17, 19, 20, 15), (11, 12, 13, 4, 15, 16, 17, 19, 20, 15, 20)], [(7, 7), (6,)], [(1, 2, 2, 3, 3, 4, 4, 5, 5, 3, 4), (5, 5, 6, 6, 7, 7, 8, 8, 9, 9)], [(100, 200, 300, 400, 500, 400, 300), (499, 200, 400, 500)], [(False, False, False, False, False, False), (False, False, False, False, False, False)], [(), (4, 6, 6)], [(4, 5, 6), (4, 4, 5, 6)], [(12, 2, 20, 20, 2), (12, 2, 20, 20)], [(11, 12, 13, 14, 15, 16, 17, 19, 20, 15, 11), (11, 12, 13, 14, 15, 16, 17, 19, 20, 15)], [(16, 1, 2, 3), (1, 2, 3)], [(1, 2, 3, 4, 5, 6, 6, 7, 8, 9, 10), (1, 2, 3, 5, 6, 6, 7, 8, 9, 10)], [(30.445411706111912, 18.10848826924409, 24.97646124690165, -55.873347006206544), (500, -45, 96, 22)], [(12, 2, 20), (12, 2, 20, 20)], [(2, 3), (1, 2, 3)], [(1, 3, 2, 3), (1, 3, 3)], [(12, 20), (12, 18, 20)], [(False, False, False, False, False), (False, True, False, False, False, False)], [(4, 6, 6, 4), (4, 6, 6)], [(1, 1, 2, 3, 4, 5, 6, 7, 8, 9), (11, 15, 12, 13, 14, 15, 16, 17, 18, 19, 20, 16)], [(5, 5, 19, 6, 6, 7, 7, 8, 9, 9), (5, 5, 6, 6, 7, 7, 8, 9, 9)], [(5, 19, 5, 16, 5), (1, 6, 3, 4, 4, 5, 5)], [(-95.16136488545524, 8.514020219858878, -25.802494572247724, 5.873698915603498, 38.044354120134614, 11.222647627029431, 26.914534243589074, 78.41454157921689, -80.88414039955265), ('ceRuVEV', 'aAXslGdbD', 'DHBNiditD', 'fHRtFowQVh', 'ITntCqEvPi', 'SmJpP', 'DHBNiditD', 'kx', 'x')], [(100, 200, 300, 400), (100, 200, 300, 400)], [(1, 2, 20, 2), (1, 2, 20)], [(False, False, False, False), (False, True, False, False)], [(1, 2, 3, 4, 4, 6, 7, 8, 9, 10), (1, 2, 3, 4, 4, 6, 7, 8, 9, 10)], [(False, False, False, False), (False, True, False, False, True)], [(1, 400, 3, 4, 4, 5, 5, 5, 3), (1, 400, 3, 4, 12, 4, 5, 5, 5, 3)], [('DRwvS', 'ITntCqEvPi', 'SmJpP', 'tUqF', 'kx', 'tUqF'), ('DRwvS', 'ITntCqEvPi', 'SmJpP', 'tUqF', 'kx', 'tUqF')], [(1, 2, 3, 5, 6, 12, 7, 8, 9, 0, 10), (1, 3, 4, 5, 6, 7, 8, 9, 0, 10)], [('DRwvS', 'ITntCqEvPi', 'SmJpP', 'tUqF', 'kx', 'SmITntCqEvPiJpP', 'tUqF'), ('DRwvS', 'ITntCqEvPi', 'SmJpP', 'tUqF', 'kx', 'tUqF')], [(1, 2, 3, 4, 5, 6, 7, 8, 9), (1, 2, 3, 4, 5, 6, 7, 8, 9, 10)], [(11, 12, 13, 14, 15, 26, 16, 17, 19, 20, 15), (11, 12, 13, 14, 15, 16, 17, 19, 20, 15)], [(5, 19, 5, 16, 5, 5), (5, 19, 5, 6, 5)], [(1, 2, 3, 6, 12, 7, 8, 9, 10, 10), (1, 2, 3, 5, 6, 12, 7, 8, 9, 10, 10)]]\n",
      "results = [(4, 5), (3, 4), (13, 14), (), (), (), (), (5,), (200, 100, 500, 400), (50,), (4, 5), (), (), (), (), (), (5,), (False,), (1, 2, 3, 4, 5, 6, 7, 8, 9, 10), (), (False,), (), (1, 2, 3, 4, 5, 70), (0, 1, 3, 4, 5, 6, 7, 8, 9, 10), (0, 1, 3, 4, 5, 6, 7, 8, 9, 10), (), (4, 5), (), (), (11, 12, 13, 14, 15, 16, 17, 19, 20), (0, 1, 3, 4, 5, 6, 7, 8, 9), (False,), (1, 3, 4, 5, 400), (), (5,), (1, 2, 3, 4, 5, 6, 7, 8, 10), (1, 2, 3, 4, 6, 7, 8, 9, 10), (5,), (200, 100, 500, 400), (), (2, 3), (), (1, 2, 3, 4, 5, 70, 69), (5, 6, 7, 8, 9), (5,), (1, 2, 3, 4, 5), (), (5, 6, 7, 8, 9), (1, 2, 20), (), (2,), (11, 12, 13, 14, 15, 16, 17, 19, 20), (2, 12), (1, 2, 3, 5, 6, 7, 8, 10, 12), (2, 12, 20), (6,), (), ('DRwvS', 'SmJpP', 'ITntCqEvPi'), (0, 1, 3, 4, 5, 6, 8, 9, 300), (False, True), (), (1, 2, 3), (False,), (), (), (1, 2, 3, 5, 6, 7, 8, 9, 10), (1, 2, 3, 4, 5, 6, 7, 8, 9, 10), (), (70, 11, 12, 13, 14, 15, 17, 18, 19, 20), (0, 1, 3, 4, 5, 6, 8, 9, 300), (400, 100, 500, 300), (0, 1, 2, 3, 4, 5, 6, 7, 8, 9, 10, 12), (False,), (0, 1, 2, 3, 4, 6, 7, 8, 9, 10, 12), (16, 4, 5), (1, 2, 3, 5, 6, 7, 8, 9), (11, 12, 13, 15, 16, 17, 19, 20), (), (5,), (200, 500, 400), (False,), (), (4, 5, 6), (2, 12, 20), (11, 12, 13, 14, 15, 16, 17, 19, 20), (1, 2, 3), (1, 2, 3, 5, 6, 7, 8, 9, 10), (), (2, 12, 20), (2, 3), (1, 3), (12, 20), (False,), (4, 6), (), (5, 6, 7, 8, 9), (5,), (), (200, 100, 400, 300), (1, 2, 20), (False,), (1, 2, 3, 4, 6, 7, 8, 9, 10), (False,), (1, 3, 4, 5, 400), ('DRwvS', 'ITntCqEvPi', 'kx', 'tUqF', 'SmJpP'), (0, 1, 3, 5, 6, 7, 8, 9, 10), ('DRwvS', 'ITntCqEvPi', 'kx', 'tUqF', 'SmJpP'), (1, 2, 3, 4, 5, 6, 7, 8, 9), (11, 12, 13, 14, 15, 16, 17, 19, 20), (19, 5), (1, 2, 3, 6, 7, 8, 9, 10, 12)]\n",
      "for i, (inp, exp) in enumerate(zip(inputs, results)):\n",
      "    assertion(similar_elements(*inp), exp, 0)\n",
      "\n",
      "-----\n",
      "\n",
      "\n",
      "\n",
      "import numpy as np\n",
      "\n",
      "def is_floats(x) -> bool:\n",
      "    # check if it is float; List[float]; Tuple[float]\n",
      "    if isinstance(x, float):\n",
      "        return True\n",
      "    if isinstance(x, (list, tuple)):\n",
      "        return all(isinstance(i, float) for i in x)\n",
      "    if isinstance(x, np.ndarray):\n",
      "        return x.dtype == np.float64 or x.dtype == np.float32\n",
      "    return False\n",
      "\n",
      "\n",
      "def assertion(out, exp, atol):\n",
      "    exact_match = out == exp\n",
      "\n",
      "    if atol == 0 and is_floats(exp):\n",
      "        atol = 1e-6\n",
      "    if not exact_match and atol != 0:\n",
      "        np.testing.assert_allclose(out, exp, atol=atol)\n",
      "    else:\n",
      "        assert exact_match\n",
      "\n",
      "\n",
      "inputs = [[1], [2], [10], [35], [37], [7919], [10007], [524287], [7920], [True], [10006], [524288], [7921], [10008], [10005], [7918], [524289], [10004], [524286], [524290], [7922], [7923], [10009], [7917], [524285], [7916], [10003], [524284], [7924], [10010], [7915], [524283], [7925], [10011], [10002], [7914], [7926], [524291], [10012], [10001], [524292], [10000], [7927], [7928], [9999], [7929], [524293], [7913], [10013], [10014], [524282], [7912], [63], [9998], [62], [524281], [23], [64], [58], [60], [16], [59], [9997], [57], [10015], [61], [20], [56], [21], [7930], [55], [7911], [54], [19], [53], [9996], [524280], [22], [9995], [96], [9994], [7931], [10016], [524279], [97], [9993], [15], [94], [65], [93], [29], [66], [30], [92], [41], [95], [91], [14], [6], [524294], [4], [524278], [524277], [90], [524275], [5], [524295], [3]]\n",
      "results = [True, False, True, True, False, False, False, False, True, True, True, True, True, True, True, True, True, True, True, True, True, True, False, True, True, True, True, True, True, True, True, True, True, True, True, True, True, True, True, True, True, True, False, True, True, True, True, True, True, True, True, True, True, True, True, True, False, True, True, True, True, False, True, True, True, False, True, True, True, True, True, True, True, False, False, True, True, True, True, True, True, True, True, True, False, True, True, True, True, True, False, True, True, True, False, True, True, True, True, True, True, True, True, True, True, False, True, False]\n",
      "for i, (inp, exp) in enumerate(zip(inputs, results)):\n",
      "    assertion(is_not_prime(*inp), exp, 0)\n",
      "\n",
      "-----\n",
      "\n",
      "\n",
      "\n",
      "import numpy as np\n",
      "\n",
      "def is_floats(x) -> bool:\n",
      "    # check if it is float; List[float]; Tuple[float]\n",
      "    if isinstance(x, float):\n",
      "        return True\n",
      "    if isinstance(x, (list, tuple)):\n",
      "        return all(isinstance(i, float) for i in x)\n",
      "    if isinstance(x, np.ndarray):\n",
      "        return x.dtype == np.float64 or x.dtype == np.float32\n",
      "    return False\n",
      "\n",
      "\n",
      "def assertion(out, exp, atol):\n",
      "    exact_match = out == exp\n",
      "\n",
      "    if atol == 0 and is_floats(exp):\n",
      "        atol = 1e-6\n",
      "    if not exact_match and atol != 0:\n",
      "        np.testing.assert_allclose(out, exp, atol=atol)\n",
      "    else:\n",
      "        assert exact_match\n",
      "\n",
      "\n",
      "inputs = [[5], [10], [15], [100], [99], [98], [96], [101], [97], [102], [22], [True], [23], [103], [104], [21], [95], [105], [20], [7], [9], [8], [6], [4], [106], [24], [19], [11], [94], [25], [3], [26], [93], [12], [108], [92], [42], [41], [43], [107], [2], [1], [13], [14], [38], [39], [53], [37], [52], [18], [54], [91], [55], [51], [50], [40], [90], [89], [56], [17], [76], [109], [110], [111], [27], [16], [44], [57], [88], [77], [58], [75], [28], [113], [112], [87], [59], [78], [70], [71], [69], [86], [72], [45], [47], [46], [49], [29], [60], [36], [30], [85], [48], [73], [84], [114], [31], [35], [34], [79], [83]]\n",
      "results = [65, 280, 645, 29800, 29205, 28616, 27456, 30401, 28033, 31008, 1408, 1, 1541, 31621, 32240, 1281, 26885, 32865, 1160, 133, 225, 176, 96, 40, 33496, 1680, 1045, 341, 26320, 1825, 21, 1976, 25761, 408, 34776, 25208, 5208, 4961, 5461, 34133, 8, 1, 481, 560, 4256, 4485, 8321, 4033, 8008, 936, 8640, 24661, 8965, 7701, 7400, 4720, 24120, 23585, 9296, 833, 17176, 35425, 36080, 36741, 2133, 736, 5720, 9633, 23056, 17633, 9976, 16725, 2296, 38081, 37408, 22533, 10325, 18096, 14560, 14981, 14145, 22016, 15408, 5985, 6533, 6256, 7105, 2465, 10680, 3816, 2640, 21505, 6816, 15841, 21000, 38760, 2821, 3605, 3400, 18565, 20501]\n",
      "for i, (inp, exp) in enumerate(zip(inputs, results)):\n",
      "    assertion(is_octagonal(*inp), exp, 0)\n",
      "\n",
      "-----\n",
      "\n",
      "\n",
      "\n",
      "import numpy as np\n",
      "\n",
      "def is_floats(x) -> bool:\n",
      "    # check if it is float; List[float]; Tuple[float]\n",
      "    if isinstance(x, float):\n",
      "        return True\n",
      "    if isinstance(x, (list, tuple)):\n",
      "        return all(isinstance(i, float) for i in x)\n",
      "    if isinstance(x, np.ndarray):\n",
      "        return x.dtype == np.float64 or x.dtype == np.float32\n",
      "    return False\n",
      "\n",
      "\n",
      "def assertion(out, exp, atol):\n",
      "    exact_match = out == exp\n",
      "\n",
      "    if atol == 0 and is_floats(exp):\n",
      "        atol = 1e-6\n",
      "    if not exact_match and atol != 0:\n",
      "        np.testing.assert_allclose(out, exp, atol=atol)\n",
      "    else:\n",
      "        assert exact_match\n",
      "\n",
      "\n",
      "inputs = [[11], [7], [12], [-5], [0], [True], [False], [-4], [-3], [-1], [-39], [-37], [-36], [-35], [-38], [47], [-20], [46], [-34], [45], [-40], [-33], [-21], [88], [89], [-2], [1], [2], [-59], [-41], [-32], [-58], [-31], [-6], [-42], [-60], [-7], [3], [-53], [4], [72], [-19], [-43], [5], [-52], [44], [52], [-51], [-54], [43], [-55], [55], [42], [-28], [-95], [-22], [-96], [-50], [73], [-97], [90], [-94], [53], [-49], [-23], [-98], [54], [6], [-29], [-30], [41], [91], [56], [63], [-56], [60], [-8], [-68], [48], [87], [86], [-27], [92], [51], [-24], [61], [-44], [-69], [84], [-70], [40], [-61], [-18], [-9], [39], [-93], [62], [64], [-62], [59], [-26], [-99], [-45], [-92], [-10]]\n",
      "results = [10, 6, 11, -6, -1, 0, -1, -5, -4, -2, -40, -38, -37, -36, -39, 46, -21, 45, -35, 44, -41, -34, -22, 87, 88, -3, 0, 1, -60, -42, -33, -59, -32, -7, -43, -61, -8, 2, -54, 3, 71, -20, -44, 4, -53, 43, 51, -52, -55, 42, -56, 54, 41, -29, -96, -23, -97, -51, 72, -98, 89, -95, 52, -50, -24, -99, 53, 5, -30, -31, 40, 90, 55, 62, -57, 59, -9, -69, 47, 86, 85, -28, 91, 50, -25, 60, -45, -70, 83, -71, 39, -62, -19, -10, 38, -94, 61, 63, -63, 58, -27, -100, -46, -93, -11]\n",
      "for i, (inp, exp) in enumerate(zip(inputs, results)):\n",
      "    assertion(closest_num(*inp), exp, 0)\n",
      "\n",
      "-----\n",
      "\n",
      "\n",
      "\n",
      "import numpy as np\n",
      "\n",
      "def is_floats(x) -> bool:\n",
      "    # check if it is float; List[float]; Tuple[float]\n",
      "    if isinstance(x, float):\n",
      "        return True\n",
      "    if isinstance(x, (list, tuple)):\n",
      "        return all(isinstance(i, float) for i in x)\n",
      "    if isinstance(x, np.ndarray):\n",
      "        return x.dtype == np.float64 or x.dtype == np.float32\n",
      "    return False\n",
      "\n",
      "\n",
      "def assertion(out, exp, atol):\n",
      "    exact_match = out == exp\n",
      "\n",
      "    if atol == 0 and is_floats(exp):\n",
      "        atol = 1e-6\n",
      "    if not exact_match and atol != 0:\n",
      "        np.testing.assert_allclose(out, exp, atol=atol)\n",
      "    else:\n",
      "        assert exact_match\n",
      "\n",
      "\n",
      "inputs = [[15], [12], [9], [79337], [79336], [86], [87], [88], [85], [79335], [79334], [79333], [79332], [True], [89], [79331], [95], [90], [79338], [91], [92], [93], [84], [94], [83], [79330], [82], [46], [47], [44], [48], [49], [81], [43], [42], [96], [41], [45], [97], [79], [78], [79329], [80], [50], [40], [79328], [51], [17], [98], [39], [16], [18], [99], [38], [79327], [19], [20], [79325], [77], [79339], [37], [36], [79324], [79340], [79341], [35], [34], [79323], [73], [79322], [21], [22], [79320], [52], [23], [74], [65], [79326], [79321], [33], [79319], [76], [32], [14], [75], [57], [100], [62], [67], [72], [58], [59], [60], [66], [56], [53], [101], [54], [68], [63], [55], [61], [64]]\n",
      "results = [4, 6, 3, 2, 16, 4, 4, 8, 4, 24, 4, 2, 24, 1, 2, 6, 4, 12, 16, 4, 6, 4, 12, 4, 2, 8, 4, 4, 2, 6, 10, 3, 5, 2, 8, 12, 2, 6, 2, 2, 8, 8, 10, 6, 8, 24, 4, 2, 6, 4, 5, 6, 6, 4, 4, 2, 6, 12, 4, 8, 2, 9, 12, 12, 8, 4, 4, 8, 2, 8, 4, 4, 32, 6, 2, 4, 4, 32, 4, 4, 2, 6, 6, 4, 6, 4, 9, 4, 2, 12, 4, 2, 12, 8, 8, 2, 2, 8, 6, 6, 4, 2, 7]\n",
      "for i, (inp, exp) in enumerate(zip(inputs, results)):\n",
      "    assertion(divisor(*inp), exp, 0)\n",
      "\n",
      "-----\n",
      "\n",
      "\n",
      "\n",
      "import numpy as np\n",
      "\n",
      "def is_floats(x) -> bool:\n",
      "    # check if it is float; List[float]; Tuple[float]\n",
      "    if isinstance(x, float):\n",
      "        return True\n",
      "    if isinstance(x, (list, tuple)):\n",
      "        return all(isinstance(i, float) for i in x)\n",
      "    if isinstance(x, np.ndarray):\n",
      "        return x.dtype == np.float64 or x.dtype == np.float32\n",
      "    return False\n",
      "\n",
      "\n",
      "def assertion(out, exp, atol):\n",
      "    exact_match = out == exp\n",
      "\n",
      "    if atol == 0 and is_floats(exp):\n",
      "        atol = 1e-6\n",
      "    if not exact_match and atol != 0:\n",
      "        np.testing.assert_allclose(out, exp, atol=atol)\n",
      "    else:\n",
      "        assert exact_match\n",
      "\n",
      "\n",
      "inputs = [['A'], ['R'], ['S'], ['@'], ['®'], ['!'], [' '], ['ص'], ['&'], ['\\n'], ['€'], ['^'], ['ä'], ['π'], ['~'], ['\\t'], ['©'], ['๑'], ['$'], ['7'], ['%'], ['['], ['{'], ['é'], ['\\x00'], ['\\x1d'], ['♥'], ['\\uffff'], ['\\x7f'], ['\\x80'], ['™'], ['文'], ['→'], ['F'], ['q'], ['E'], ['o'], ['W'], ['U'], ['O'], ['K'], ['v'], ['Z'], ['N'], ['P'], ['b'], ['y'], ['l'], ['V'], ['D'], ['u'], ['s'], ['I'], ['h'], ['H'], ['B'], ['k'], ['X'], ['L'], ['p'], ['Y'], ['c'], ['J'], ['T'], ['a'], ['e'], ['r'], ['G'], ['j'], ['m'], ['z'], ['n'], ['g'], ['t'], ['i'], ['d'], ['M'], ['x'], ['f'], ['C'], ['Q'], ['w']]\n",
      "results = [65, 82, 83, 64, 174, 33, 32, 1589, 38, 10, 8364, 94, 228, 960, 126, 9, 169, 3665, 36, 55, 37, 91, 123, 233, 0, 29, 9829, 65535, 127, 128, 8482, 25991, 8594, 70, 113, 69, 111, 87, 85, 79, 75, 118, 90, 78, 80, 98, 121, 108, 86, 68, 117, 115, 73, 104, 72, 66, 107, 88, 76, 112, 89, 99, 74, 84, 97, 101, 114, 71, 106, 109, 122, 110, 103, 116, 105, 100, 77, 120, 102, 67, 81, 119]\n",
      "for i, (inp, exp) in enumerate(zip(inputs, results)):\n",
      "    assertion(ascii_value(*inp), exp, 0)\n",
      "\n",
      "-----\n",
      "\n",
      "\n",
      "\n",
      "import numpy as np\n",
      "\n",
      "def is_floats(x) -> bool:\n",
      "    # check if it is float; List[float]; Tuple[float]\n",
      "    if isinstance(x, float):\n",
      "        return True\n",
      "    if isinstance(x, (list, tuple)):\n",
      "        return all(isinstance(i, float) for i in x)\n",
      "    if isinstance(x, np.ndarray):\n",
      "        return x.dtype == np.float64 or x.dtype == np.float32\n",
      "    return False\n",
      "\n",
      "\n",
      "def assertion(out, exp, atol):\n",
      "    exact_match = out == exp\n",
      "\n",
      "    if atol == 0 and is_floats(exp):\n",
      "        atol = 1e-6\n",
      "    if not exact_match and atol != 0:\n",
      "        np.testing.assert_allclose(out, exp, atol=atol)\n",
      "    else:\n",
      "        assert exact_match\n",
      "\n",
      "\n",
      "inputs = [[9], [4], [3], [15], [20], [25], [30], [0], [1], [2], [10], [True], [False], [19], [11], [24], [26], [16], [31], [18], [32], [33], [29], [27], [28], [8], [17], [7], [21], [12], [23], [22], [14], [13], [6], [5]]\n",
      "results = [76, 7, 4, 1364, 15127, 167761, 1860498, 2, 1, 3, 123, 1, 2, 9349, 199, 103682, 271443, 2207, 3010349, 5778, 4870847, 7881196, 1149851, 439204, 710647, 47, 3571, 29, 24476, 322, 64079, 39603, 843, 521, 18, 11]\n",
      "for i, (inp, exp) in enumerate(zip(inputs, results)):\n",
      "    assertion(find_lucas(*inp), exp, 0)\n",
      "\n",
      "-----\n",
      "\n",
      "\n",
      "\n",
      "import numpy as np\n",
      "\n",
      "def is_floats(x) -> bool:\n",
      "    # check if it is float; List[float]; Tuple[float]\n",
      "    if isinstance(x, float):\n",
      "        return True\n",
      "    if isinstance(x, (list, tuple)):\n",
      "        return all(isinstance(i, float) for i in x)\n",
      "    if isinstance(x, np.ndarray):\n",
      "        return x.dtype == np.float64 or x.dtype == np.float32\n",
      "    return False\n",
      "\n",
      "\n",
      "def assertion(out, exp, atol):\n",
      "    exact_match = out == exp\n",
      "\n",
      "    if atol == 0 and is_floats(exp):\n",
      "        atol = 1e-6\n",
      "    if not exact_match and atol != 0:\n",
      "        np.testing.assert_allclose(out, exp, atol=atol)\n",
      "    else:\n",
      "        assert exact_match\n",
      "\n",
      "\n",
      "inputs = [[5], [2], [6], [1], [12], [10], [11], [9], [8], [True], [7], [3], [4]]\n",
      "results = [True, False, False, True, True, True, False, False, True, True, True, True, False]\n",
      "for i, (inp, exp) in enumerate(zip(inputs, results)):\n",
      "    assertion(check_monthnumb_number(*inp), exp, 0)\n",
      "\n",
      "-----\n",
      "\n",
      "\n",
      "\n",
      "import numpy as np\n",
      "\n",
      "def is_floats(x) -> bool:\n",
      "    # check if it is float; List[float]; Tuple[float]\n",
      "    if isinstance(x, float):\n",
      "        return True\n",
      "    if isinstance(x, (list, tuple)):\n",
      "        return all(isinstance(i, float) for i in x)\n",
      "    if isinstance(x, np.ndarray):\n",
      "        return x.dtype == np.float64 or x.dtype == np.float32\n",
      "    return False\n",
      "\n",
      "\n",
      "def assertion(out, exp, atol):\n",
      "    exact_match = out == exp\n",
      "\n",
      "    if atol == 0 and is_floats(exp):\n",
      "        atol = 1e-6\n",
      "    if not exact_match and atol != 0:\n",
      "        np.testing.assert_allclose(out, exp, atol=atol)\n",
      "    else:\n",
      "        assert exact_match\n",
      "\n",
      "\n",
      "inputs = [[[1, 2, 3]], [[1, 2]], [[1, 2, 3, 4]], [[]]]\n",
      "results = [20, 5, 84, 0]\n",
      "for i, (inp, exp) in enumerate(zip(inputs, results)):\n",
      "    assertion(sum_Of_Subarray_Prod(*inp), exp, 0)\n",
      "\n",
      "-----\n"
     ]
    },
    {
     "data": {
      "text/plain": "<Figure size 640x480 with 1 Axes>",
      "image/png": "[encoded data removed]"
     },
     "metadata": {},
     "output_type": "display_data"
    }
   ],
   "source": [
    "from matplotlib import pyplot as plt\n",
    "\n",
    "\n",
    "ds = mb['test']\n",
    "\n",
    "\n",
    "lens = []\n",
    "for t in ds['test']:\n",
    "    lens.append(len(t))\n",
    "    if len(t) == min(lens):\n",
    "        print(t)\n",
    "        print(\"-----\\n\")\n",
    "\n",
    "plt.hist(lens)\n",
    "plt.show()"
   ],
   "metadata": {
    "collapsed": false,
    "ExecuteTime": {
     "end_time": "2024-03-27T15:12:16.523186Z",
     "start_time": "2024-03-27T15:12:16.459747Z"
    }
   },
   "id": "d78770441aaa0960",
   "execution_count": 44
  },
  {
   "cell_type": "code",
   "outputs": [
    {
     "data": {
      "text/plain": "790"
     },
     "execution_count": 43,
     "metadata": {},
     "output_type": "execute_result"
    }
   ],
   "source": [
    "ds"
   ],
   "metadata": {
    "collapsed": false,
    "ExecuteTime": {
     "end_time": "2024-03-27T15:11:45.193166Z",
     "start_time": "2024-03-27T15:11:45.190233Z"
    }
   },
   "id": "24e2b0e81a572a9b",
   "execution_count": 43
  },
  {
   "cell_type": "code",
   "outputs": [],
   "source": [],
   "metadata": {
    "collapsed": false,
    "ExecuteTime": {
     "end_time": "2024-03-27T15:03:49.478942Z",
     "start_time": "2024-03-27T15:03:49.476698Z"
    }
   },
   "id": "bb903aa88891bfb8",
   "execution_count": 29
  },
  {
   "cell_type": "code",
   "outputs": [
    {
     "name": "stdout",
     "output_type": "stream",
     "text": [
      "\n",
      "\n",
      "import numpy as np\n",
      "\n",
      "def is_floats(x) -> bool:\n",
      "    # check if it is float; List[float]; Tuple[float]\n",
      "    if isinstance(x, float):\n",
      "        return True\n",
      "    if isinstance(x, (list, tuple)):\n",
      "        return all(isinstance(i, float) for i in x)\n",
      "    if isinstance(x, np.ndarray):\n",
      "        return x.dtype == np.float64 or x.dtype == np.float32\n",
      "    return False\n",
      "\n",
      "\n",
      "def assertion(out, exp, atol):\n",
      "    exact_match = out == exp\n",
      "\n",
      "    if atol == 0 and is_floats(exp):\n",
      "        atol = 1e-6\n",
      "    if not exact_match and atol != 0:\n",
      "        np.testing.assert_allclose(out, exp, atol=atol)\n",
      "    else:\n",
      "        assert exact_match\n",
      "\n",
      "\n",
      "def check(candidate):\n",
      "    inputs = [[[1.0, 2.0, 3.9, 4.0, 5.0, 2.2], 0.3], [[1.0, 2.0, 3.9, 4.0, 5.0, 2.2], 0.05], [[1.0, 2.0, 5.9, 4.0, 5.0], 0.95], [[1.0, 2.0, 5.9, 4.0, 5.0], 0.8], [[1.0, 2.0, 3.0, 4.0, 5.0, 2.0], 0.1], [[1.1, 2.2, 3.1, 4.1, 5.1], 1.0], [[1.1, 2.2, 3.1, 4.1, 5.1], 0.5], [[1.0, 2.5, 3.0, 4.5, 5.0, 6.5], 0.4], [[1.0, 2.0, 3.0, 2.9, 5.0, 6.0], 0.1], [[0.5, 0.6, 0.7, 0.8, 0.9], 0.05], [[10.5, 20.5, 30.5, 25.5, 40.5], 4.0], [[1.1, 2.2, 3.3, 4.4, 5.5, 6.6, 7.7], 0.2], [[0.1, 0.5, 1.0, 1.5, 2.0], 0.1], [[1.2, 2.4, 3.6, 4.8], 0.8], [[-1.0, -0.5, 0.0, 0.5, 1.0], 0.3], [[-2.0, 2.0, 3.0, 4.0], 1.5], [[1.0, 2.0, 3.0, 4.0, 5.0], 0.5], [[1.0, 2.0, 2.9, 5.0, 6.0], 4.4], [[1.0, 2.0, 3.0, 4.0, 5.0], 1.0], [[1.0, 2.0, 3.0, 4.0, 5.0, 4.0], 6.6], [[1.0, 2.5, 3.0, 4.5, 5.0, 6.5], 0.5837785211547324], [[1.0, 2.0, 3.0, 6.0], 1.4684959831900988], [[1.0, 2.0, 3.0, 4.0, 5.0, 4.0], 1.5], [[0.1, 0.5, 1.0, 1.5, 2.0], 5.0], [[1.0, 2.0, 3.0, 6.0], 0.5], [[1.0, 2.0, 3.0, 4.0, 5.0, 4.0, 3.1145064227603365], 1.5], [[1.0, 2.0, 3.0, 2.9, 5.0, 6.0, 6.6], 0.1], [[-2.0, 2.0, 3.0, 4.0], 1.7909669082553559], [[-1.0, -0.5, 0.0, 0.5, 1.0], 0.05], [[0.1, 0.5, 1.5, 2.0], 0.1], [[10.5, 20.5, 30.5, 25.5, 40.5, -1.0], 4.0], [[1.0, 1.4684959831900988, 3.0, 4.0, 5.0, 4.0], 6.6], [[1.0, 2.0, 3.0], 1.4684959831900988], [[1.0, 2.0, 3.0, 2.9, 5.0, 3.1145064227603365, 6.6], 0.001597775988153055], [[1.0, 2.0, 3.0, 4.0, 5.0, 4.0, 0.001597775988153055], 6.622770022559026], [[0.5, 0.7, 0.8, 0.9], 0.05], [[1.0, 2.0, 3.0, 4.0, 5.0], 1.4453152842907233], [[1.0, 2.5, 3.0, 4.5, 5.0, 6.5], 0.3], [[2.2, 3.3, 4.4, 5.5, 6.6, 7.7], 0.2], [[1.0, 3.0, 4.0, 5.0], 0.5], [[0.1, 0.5, 1.0, 1.5, 2.0, 0.5], 0.4], [[1.0, 2.0, 3.0, 2.9, 5.0, 6.0, 2.0, 2.0], 0.4395081641974091], [[1.0, 2.5, 3.0, 4.5, 6.5], 0.3], [[1.0, 2.0, 3.0, 4.0, 5.0, 2.4442803957785837, 1.0], 0.5], [[1.0, 3.0, 4.0, 5.0], 30.5], [[1.0, 2.5, 3.0, 4.5, 5.0, 5.40171670636793, 5.40171670636793], 0.3], [[0.5, 0.6, 0.7, 0.8], 3.1145064227603365], [[1.0, 2.0, 6.0], 1.4684959831900988], [[1.2, 2.4, 5.5, 4.8], 2.4], [[2.2, 3.3, 4.4, 5.5, 6.6, 7.7, 5.5], 0.2], [[1.0, 2.0, 3.0, 6.0], 0.4], [[-2.0, 3.0, 4.0], 1.7909669082553559], [[0.1, 0.5, 1.0, 1.5, 2.0], 0.4], [[0.1, 0.5, 1.0, 1.5, 2.0, 6.0], 4.029509770611085], [[1.2, 2.4, 6.622770022559026, 4.8], 3.0791117034371744], [[1.0, 2.5, 3.0, 4.5, 5.0, 6.5, 5.51097214523066], 0.5837785211547324], [[0.1, 0.5, 1.0, 1.5, 2.0], 4.8], [[1.0, 2.0, 3.0, 2.9, 5.0, 3.1145064227603365, 6.6], 25.5], [[1.0, 2.0, 3.0, 2.9, 5.0, 6.0, 2.0, 2.0], 10.5], [[1.0, 3.0], 4.28359856787508], [[1.0, 2.0, 3.0, 2.9, 6.0], 0.1], [[1.2, 2.4, 6.32960401348287, 4.8], 2.4], [[-2.0, 4.029509770611085, 3.0, 4.0], 1.5], [[1.2, 2.4, 6.32960401348287, 4.8], 2.5], [[1.0, 2.0, 3.0, 2.9, 5.0, 6.0, 2.0], 0.1], [[1.2, 2.4, 6.32960401348287, 4.8], 0.1], [[1.2, 2.4, 6.32960401348287, 4.220732489926661], 1.5434921314453987], [[-1.0, -0.5, 0.0, 0.5, 1.0], 3.0791117034371744], [[2.0, 3.0], 0.4], [[0.1, 0.5, 1.0, 1.5, 2.0, 0.5], 0.5872031050795127], [[10.5, 20.5, 30.5, 25.5, 40.5], 4.08640576656449], [[0.5, 0.7, 0.8, 0.9], 0.5956038469909051], [[1.0, 2.0, 3.0, 4.0, 5.0, 4.0, 3.1145064227603365, 3.7502832308571223], 1.5], [[-2.0, 2.0, 3.0, 4.0], 6.622770022559026], [[10.5, 30.5, 25.5, 40.5], 4.08640576656449], [[0.1, 0.5, 1.0, 1.5, 2.0], 0.5872031050795127], [[1.0, 2.0, 3.0, 4.0, 5.0, 4.0, 0.001597775988153055, 4.08640576656449], 6.622770022559026], [[1.0, 2.0, 3.0, 6.0, 2.0], 0.4], [[1.2, 2.4, 6.32960401348287, 4.8, 2.4], 2.4], [[1.2, 2.4, 6.622770022559026, 4.8], 9.342174793939517], [[2.4, 6.32960401348287, 4.8], 2.4], [[1.2, 2.4, 6.622770022559026, 4.8], 7.7], [[1.0, 9.342174793939517, 4.0, 5.0], 30.5], [[1.0, 2.0, 3.0, 4.0, 5.0], 6.622770022559026], [[0.1, 0.5, 1.0, 1.5, 2.0, 2.7536386742063454], 0.5872031050795127], [[0.5, 0.6, 0.7, 0.8, 0.5956038469909051], 7.7], [[-1.0, 1.0, 0.0, 0.5, 1.0], 0.3], [[1.0, 2.0, 3.0, 2.9, 5.0, 6.0, 2.0, 2.0], 5.5], [[1.0, 2.0, 3.0, 2.9, 5.0, 6.0, 2.0, 2.0], 0.46346457679116604], [[1.0, 2.5, 3.0, 5.0, 6.5, 0.4395081641974091], 0.5837785211547324], [[2.2, 3.3, 4.4, 5.5, 6.6, 7.7, 5.5], 3.3], [[-2.0, 2.0, 3.0, 4.0], 0.05], [[2.2, 3.3, 4.4, 5.5, 6.6, 7.7, 5.5], 0.22976043999045262], [[1.2, 2.4, 6.622770022559026, 4.8], 1.5434921314453987], [[1.2, 2.4, 6.622770022559026, 4.8], 1.6376315868318712], [[2.2, 3.3, 4.4, 5.5, 7.7, 5.5], 0.22976043999045262], [[1.0, 0.0, 0.5, 1.0], 0.3], [[1.2, 2.4, 6.32960401348287, 4.8], 0.22976043999045262], [[1.2, 2.4, 6.32960401348287, 4.8, 2.4], 0.22976043999045262], [[1.2, 2.4, 3.6, 4.8, 1.2], 0.8], [[1.0, 2.0, 3.0, 2.9, 5.0, 6.0], 1.2], [[1.0, 2.0, 3.0, 4.0, 5.0, 4.0, 3.1145064227603365, 3.7502832308571223, 4.814818917148268], 1.5], [[1.2, 2.4, 6.32960401348287, 4.8], 1.8783433029023973], [[1.2, 2.4, 6.32960401348287, 4.8, 4.8, 1.6616978677034633], 0.09078602525716209], [[1.0, 2.5, 3.0, 3.907675941633249, 5.0, 6.5, 4.5], 0.6417930585021959], [[1.0, 2.0, 3.0, 2.9, 5.0, 6.0, 2.518151204418766, 2.0], 2.0], [[-2.0, 4.029509770611085, 3.0, 4.0], 25.5], [[1.0, 2.0, 3.0, 4.0, 5.0, 6.0, 7.0], 1.0], [[0.0001, 0.0002, 0.0003, 0.0004, 0.0005], 1e-05], [[0.01, 0.02, 0.03, 0.04, 0.05], 0.001], [[1.0, 2.0, 3.0, 4.0, 5.0, 6.0, 7.0], 0.1], [[1.0, 2.0, 3.0, 4.0, 5.0, 6.0, 7.0], 1e-07], [[0.0, -1.0, 1.0, 2.0, 3.0, 4.0, 27.0, -3.5, 3.5], 0.5], [[0.5, 1.5, 2.5, 3.5, 4.5], 0.25], [[2.0, 4.0, 6.0, 8.0, 10.0], 0.4], [[0.01, 0.02, 0.03, 0.04, 0.05, 0.06], 0.001], [[1.0, 2.0, 2.9, 3.0, 3.1, 4.0, 5.0, 6.0], 0.2], [[1.0, 2.0, 3.0, 4.0, 5.0, 6.0, 7.0, 1.0], 1.0], [[0.0, -1.0, 1.0, 2.0, 3.0, 4.0, 27.0, -3.5, 3.5], 0.0002], [[1.0, 2.0, 3.0, 4.0, 5.0, 6.0, 7.0], 0.01], [[2.0, 4.0, 6.0, 0.4, 10.0], 0.3534420658062394], [[1.0, 0.02, 3.0, 4.0, 5.0, 6.0, 7.0, 0.02], 0.01], [[0.5, 1.5, 2.5, 3.5, 4.5], 1e-05], [[0.01, 2.9, 0.03, 0.04, 0.05, 0.06], 0.001], [[1.0, 2.0, 3.0, 4.0, 5.0, 6.0, 7.0], 1.1411672170968274], [[2.0, 4.0, 6.0, 8.0, 10.0], 0.02], [[1.0, 2.0, 3.0, 4.0, 5.0, 6.0, 7.0], 0.0002], [[0.5, -1.0, 1.0, 2.0, 3.0, 4.0, 27.0, -3.5, 3.5], 0.7151289158513581], [[2.0, 4.0, 6.0, 8.0, 10.0], 4.5], [[1.0, 2.0, 3.0, 4.0, 5.0, 6.0, 7.0, 1.0], 0.5876482754436165], [[0.01, 2.9, 0.03, 0.04, 0.05, 0.06, 0.01], 0.001], [[0.01, 1e-07, 0.03, 0.04, 0.05, 0.06], 0.03], [[1.0, 2.0, 3.0, 4.0, 5.0, 6.0, 7.0], 0.05], [[0.01, 0.03, 0.04, 0.06], 0.001], [[0.01, 0.02, 0.03, 0.04, 0.05], 0.0009536407568491921], [[0.0001, 0.0002, 0.0003, 0.0004, 0.0005], 3.0], [[0.5, 1.5, 2.5, 3.5, 4.5], 10.0], [[1.0, 2.0, 3.0, 4.0, 5.0, 6.0, 7.0, 3.0], 0.0002], [[1.0, 2.0, 3.0, 4.0, 0.05, 5.0, 6.0, 7.0], 1.1411672170968274], [[0.01, 0.02, 0.03, 0.03791583967678999, 0.05, 0.06], 0.001], [[0.0, -1.0, 1.0, 2.0, 3.0, 4.0, 27.0, -3.5, 3.5], 0.5815567161870863], [[0.01, 2.9, 2.419821239840023, 0.03, 0.04, 0.05, 0.06], 0.001], [[0.01, 0.02, 0.03, 0.03791583967678999, 0.06], 0.001], [[0.0001, 0.0002, 0.0003, 0.0004, 0.0005], 3.496608712535931], [[1.0, 2.0, 3.0, 4.0, 5.0, 6.0, 0.001, 7.0], 1e-07], [[1.0, 2.0, 3.0, 4.0, 0.05, 5.0, 6.0, 7.0], 0.01], [[0.0001, 0.0002, 0.0003, 0.0004, 0.0005, 0.0001], 3.0], [[0.0001, 0.0002, 0.0003, -0.27533868871906764, 0.0004, 0.0005], 3.0], [[5.0, 0.01, 0.02, 0.03, 0.03791583967678999, 0.05, 0.06], 0.001], [[0.01, 0.02, 0.03, 2.419821239840023, 0.04, 0.05], 0.4], [[1.0, 2.0, 2.9, 3.0, 3.1, 4.0, 5.0, 6.0], 0.7065364188537329], [[5.0, 0.01, 0.02, 0.03, 0.05, 0.06], 0.001], [[2.0, 4.0, 6.0, 5.4033516333681195, 0.4], 0.3534420658062394], [[0.0001, 0.0002, 0.0003, 0.0004, 0.0005], 0.03791583967678999], [[1.0, 2.0, 2.9, 3.0, 3.1, 4.0, 5.0, 6.0], 0.23476792155713733], [[0.01, 0.0005, 0.03, 0.04, 0.06], 0.001], [[2.0, 4.0, 6.0, 10.0], 0.02], [[1.0, 2.0, 3.0, 4.0, 5.0, 6.0, 7.0, 1.0], 1.4554927325266915], [[1.0, 2.0, 3.0, 4.0, 5.0, 6.0, 7.0], 0.5387982733401486], [[0.01, 0.02, 0.03, 0.03791583967678999, 0.06, 0.06], 0.001], [[1.0, 2.4342970911810413, 3.0, 4.0, 0.05, 5.0, 6.0, 7.0], 1.1411672170968274], [[1.0, 0.01, 2.9, 3.0, 3.1, 4.0, 5.0, 6.0], 0.2], [[1.0, 2.0, 3.0, 4.0, 5.0, 6.0, 7.0], 0.03], [[1.0, 0.01, 2.9, 3.0, 5.582758456545748, 3.1, 4.0, 5.0, 6.0], 0.2], [[0.01, 2.9, 2.419821239840023, 0.03, 0.04, 0.04634346891165053, 0.06], 0.001], [[0.0, -1.0, 1.0, 2.0, 3.0, 4.0, 27.0, -3.5, 3.5, -1.0], 5.582758456545748], [[1.0, 2.0, 3.0, 4.0, 5.0, 6.0, 7.0], 27.0], [[0.01, 0.0005, 0.03, 0.04, 0.06], 3.5], [[2.0, 4.0, 6.0, 8.0, 5.403976711699473, 10.0], 0.02], [[1.0, 2.419821239840023, 2.0, 3.0, 4.0, 5.0, 6.0, 7.0], 1.1411672170968274], [[1.0, 0.01, 3.0, 3.1, 0.23476792155713733, 4.0, 5.0, 6.0], 0.24986270391526247], [[0.01, 0.02, 0.03, 2.419821239840023, 0.04, 0.05, 0.05], 5.0], [[0.01, 0.03, 0.05, 0.06], 2.419821239840023], [[0.01, 0.02, 0.03, 0.03791583967678999, 0.05, 0.06, 0.01], 0.001], [[2.0, 4.0, 6.0, 8.0, 5.403976711699473, 10.0], 10.0], [[2.0, 4.0, 6.0, 5.4033516333681195, 0.4], 0.0004], [[0.01, 0.03, 0.04, 0.06, 0.01], 0.001], [[1.0, 2.0, 3.0, 4.0, 0.0005, 6.0, 7.0], 1.1411672170968274], [[1.0, 2.0, 3.0, 4.0, 5.0, 6.0], 1e-07], [[0.01, 0.0005, 0.03, 0.04, 0.06], 1.4554927325266915], [[0.0001, 0.0002, 0.0003, -0.006819962504528854, 0.0004, 0.0005], 5.0], [[0.01, 0.02, 0.03, 0.03791583967678999, 0.05, 0.06, 0.01, 0.06], 0.001], [[0.0001, 0.0002, 0.0003, 0.0004, 0.0005], 4.922894421556738], [[0.0, -1.0, 1.0, 2.0, 3.0, 4.0, 27.0, -3.5, 3.5, 3.0], 0.5], [[0.01, 0.02, 0.03, 0.05, 0.06, 0.01], 0.8868666223424293], [[1.0, 2.0, 3.0, 4.0, 5.0, 6.0], 4.5], [[1.0, 2.0, 3.0, 4.0, 0.05, 5.0, 6.0, 7.0], 0.02], [[2.0, 8.0, 6.0, 8.0, 10.0], 0.04634346891165053], [[1.0, 0.02, 3.0, 5.0, 6.0, 7.0, 0.02], 0.01], [[0.01, 0.0005, 0.03, 0.04, 0.06], 10.0], [[0.0, -1.0, 1.0, 2.0, 3.0, 4.0, 27.0, -3.5, 3.5, 27.0], 0.5], [[5.0, 0.01, 0.02, 0.03, 0.05, 0.06], 3.0], [[0.0001, 0.0002, 0.0003, -0.27533868871906764, 0.0009536407568491921, 0.0004, 0.0005], 3.0], [[0.01, 0.02, -0.27533868871906764, 0.04, 0.05], 0.0009536407568491921], [[0.0001, 0.0002, 0.0003, -0.006819962504528854, 0.0004, 0.0005], 7.2430807150773235], [[0.0, -1.0, 1.0, 2.0, 3.0, 4.0, 27.0, -3.5, 3.5, -1.0], 0.0002], [[0.0001, 0.0003, -0.006819962504528854, 0.0004, 0.0005], 7.2430807150773235], [[1.0, 2.0, 3.0, 4.0, 5.201263047726941, 6.0, 2.0], 6.228903746346452], [[5.0, 0.01, 0.02, 0.03, 0.03791583967678999, 0.05, 0.06], 0.0005], [[1.0, 0.02, 3.0, 5.0, 6.0, 7.0, 0.02], 1e-07], [[2.0, 4.0, 6.0, 5.403976711699473, 10.0], 0.02], [[0.0001, 0.0002, 0.0003, 0.0004, 0.0005], 4.054570532215202], [[2.0, 4.0, 6.0, 8.0, 10.0, 4.0], 4.553455122105357], [[0.0, -1.0, 1.0, 2.0, 3.0, 4.0, 27.0, -3.5, 3.5], 0.9542865797125952], [[0.01, 0.02, 0.03, 0.05, 0.06, 0.01], 1.51437445552473], [[1.0, 2.4342970911810413, 3.0, 4.0, 0.05, 5.0, 6.0, 7.0], 27.0], [[1.0, 2.0, 3.0, 4.0, 5.0, 6.0, 7.0], 26.282659737726185], [[0.5, 1.5, 2.5, 3.5, 4.5], 1.0], [[5.0, 0.01, 0.02, 0.03, 0.03791583967678999, 0.05, 0.7065364188537329], 0.04], [[5.0, 0.01, 0.027867437909801628, 0.02, 0.03, 0.03791583967678999, 0.05, 0.7065364188537329], 0.0541052002900725], [[1.0, 0.01, 2.9, 3.0, 3.1, 4.0, 5.0, 6.0, 3.0], 0.2], [[1.0, 0.01, 2.9, 3.0, 3.1, 4.0, 5.0, 6.0], 27.0], [[0.0, -1.0, 1.0, 2.0, 3.0, 4.0, 27.0, -3.5, 3.5], 4.553455122105357], [[1.0, 0.06, 2.0, 3.0, 4.0, 5.0, 6.0], 4.5], [[0.0001, -0.22767713648120685, 0.0002, 0.0003, 0.0004, 0.0005], 4.304215741453683], [[2.0, 4.0, 6.0, 8.0, 10.0], 1e-07], [[0.0001, 0.0002, 0.0003, 0.0004, 0.0005, 0.0001], 4.213857109216827], [[0.0002, 0.0003, -0.27533868871906764, 0.0004, 0.0005, 0.0005], 3.0], [[1.0, 2.0, 3.1860965862717294, 3.0, 4.0, 5.0, 6.0, 7.0], 1.0], [[1.0, 2.0, 3.0, 4.0, 5.201263047726941, 6.0, 2.0], 0.0541052002900725], [[1.0, 2.0, 3.0, 4.0, 5.0, 6.0, 7.0, 1.0], 0.2], [[0.0001, 0.0002, 0.0003, 0.0004, 0.0005, 0.0004], 3.0], [[2.0, 8.0, 6.0, 8.0, 10.0, 8.0], 0.04634346891165053], [[5.0, 0.5, 0.01, 0.027867437909801628, 0.02, 0.03, 0.03791583967678999, 0.05, 0.7065364188537329], 0.0541052002900725], [[0.0, -1.0, 1.0, 2.0, 3.0, 4.0, 3.377369558845854, 27.0, -3.5, 3.5], 0.9542865797125952], [[0.0001, 0.0002, 0.0003, 0.0004, 0.0005, 0.0003], 0.03791583967678999], [[1.0, 5.0733752090151265, 0.01, 2.9, 3.0, 3.1, 4.0, 5.0, 6.0], 4.213857109216827], [[0.01, 0.02, 0.03, 0.05, 0.06, 0.01, 0.02], 0.8868666223424293], [[0.0, -1.0, 1.0, 2.0, 3.0, 4.0, 27.0, -3.5, 4.304215741453683, 3.5], 0.9542865797125952], [[2.0, 4.0, 6.0, 5.4033516333681195, 0.4, 4.0], 27.0], [[0.5, 2.5, 3.5, 4.5], 1.51437445552473], [[0.01, 0.02, 0.03, 0.04, 0.05, 0.06], 0.0010156175400534142], [[1.0, 3.0, 4.0, 0.05, 5.0, 6.0, 7.0], 0.02], [[0.0, -1.0, 1.0, 2.0, 3.0, 2.0606451994556956, 27.0, -3.5, 3.5], 0.0002], [[1.0, 2.0, 3.0, 4.0, 0.05, 5.0, 6.0, 7.0, 2.0], 1.1411672170968274], [[0.0, -1.0, 1.0, 2.0, 3.0, 4.0, 27.0, -3.5, 3.5], 7.0], [[1.0, 0.06, 2.0, 3.0, 4.0, 5.0, 6.0], 4.707106369313676], [[0.01, 0.02, 0.03, 0.04, 0.05, 0.02], 0.9542865797125952], [[2.0, 4.0, 6.0, 8.0, 5.403976711699473, 10.0, 8.0], 10.0], [[0.0003, 0.0, -1.0, 1.0, 2.0, 3.336555491090113, 4.0, 27.0, -3.5, 3.5, 4.0], 7.0], [[0.0, -1.0, 1.0, 2.0, 3.0, 4.0, 27.0, -3.5, 3.5], 0.789287426857672], [[1.0, 2.601345997419306, 3.7751560509542523, 0.0003, 5.0, 3.849505997336694, 6.0, 7.0], 0.05], [[0.01, 2.9, 0.03, 0.04, 0.05, 0.06, 1.4554927325266915], 0.001], [[1.0, 2.0, 3.0, 4.0, 5.0, 6.0, 7.0, 1.0], 0.6094785215808805], [[0.01, 0.02, 0.03, 0.04, 0.05, 0.01227074844619054], 0.9542865797125952], [[0.01, 2.9, 0.03, 0.04, 0.05, 0.06, 1.4554927325266915, 0.03, 0.05], 0.001], [[1.0, 2.4342970911810413, 3.0, 4.0, 0.05, 5.0, 6.0, 7.0], 5.403976711699473], [[5.0, 0.01, 0.001, 0.027867437909801628, 0.02, 0.03, 0.03791583967678999, 0.05, 0.7065364188537329], 0.0541052002900725], [[1.0, -0.681675841101453, 3.0, 5.0, 6.0, 7.0, 0.02, 1.0], 0.00997168438031408], [[1.9946586793360759, 0.01, 2.9, 3.0, 3.1, 4.0, 6.0], 0.2], [[2.0, 4.0, 6.0, 0.4, 10.0], 7.0], [[5.0, 0.01, 0.001, 0.027867437909801628, 0.02, 0.03, 0.03791583967678999, 0.05, 0.7065364188537329], 4.054570532215202], [[1.0, 2.0, 3.0, 4.0, 5.0, 6.0, 0.8868666223424293, 7.0], 0.05], [[0.01, 2.9, 0.03, 0.006716836510310619, 0.04, 0.05, 0.06], 0.0003], [[0.0001, 0.0002, 0.0003, 0.0004, 0.0005], 2.6773314921583236], [[0.0002, 0.0003, 0.0004, 0.0005, 0.0003, 0.0003], 0.789287426857672], [[5.0, 0.01, 0.02, 0.042389595586331735, 0.03791583967678999, 0.05, 0.06], 0.0006358241690821189], [[1.0, 2.0, 3.0, 4.0, 5.201263047726941, 6.0, 2.0], 7.480123341777553], [[2.0, 3.0, 4.0, 0.05, 5.0, 6.0, 7.0, 2.0, 7.0], 0.49458134691437805], [[1.0, -0.681675841101453, 3.0, 5.0, 6.0, 7.0, 0.02, 1.0], 0.009949556820244546], [[0.0, -1.0, 2.601345997419306, 2.0, 3.0, 4.0, 27.0, -3.5, 3.5], 0.789287426857672], [[0.0001, 0.0002, 0.0003, 0.0004, 0.0005, 0.0005], 2.6773314921583236], [[0.01, 0.0005, 0.03, 0.05932438898119835, 0.04, 0.06], 10.0], [[1.0, 0.02, 3.0, 5.0, 6.0, 4.304215741453683, 7.0, 0.02], 1e-07], [[0.01, 2.9, 2.419821239840023, 0.03, 0.04, 0.05, 0.06], 2.9], [[1.0, 3.0, 4.0, 0.0005, 6.0, 7.0], 1.1411672170968274], [[0.0001, 0.0002, 0.0003, 0.0004, 0.0005, 0.0005, 0.0004], 3.538513332792748], [[0.01, 0.04197400456083985, 0.02, 0.03, 0.04, 0.05, 0.01227074844619054], 3.1860965862717294], [[2.0, 8.0, 10.0], 1e-07], [[0.01, 0.02, 0.03, 0.04, 0.05, 0.02, 0.02], 0.9542865797125952], [[-0.7729905017969014, 2.0, 3.0, 4.0, 0.05, 5.0, 6.0, 7.0, 2.0, 7.0], 0.49458134691437805], [[0.0, -1.0, 1.0, 2.0, 3.0, 4.0, 26.59683000784765, -3.5, 3.5], 0.5815567161870863], [[1.0, 0.02, 3.0, 5.0, 6.0, 0.0010156175400534142, 7.0, 0.4999502067248638, 0.02], 0.01], [[1.0, 2.601345997419306, 3.7751560509542523, 0.0003, 5.0, 3.849505997336694, 6.0], 0.05], [[0.5, 1.5, 4.707106369313676, 3.5, 4.5], 0.25], [[0.0002, 0.0003, 0.0004, 0.0005, 0.0003, 0.0003], 0.594009877170475], [[2.0, 4.0, 6.0, 8.0, 10.0, 4.0, 8.0], 4.553455122105357], [[0.5, 1.5, 4.707106369313676, 3.5, 4.5], 0.24838213403805887], [[0.01, 0.02, 0.03, 0.04, 0.05, 0.02, 0.04], 1.4178614302725], [[0.0001, 0.8142288290952835, 0.0002, 0.0003, 0.0004, 0.0005], 0.006716836510310619], [[1.0, 2.0, 3.0, 4.0, 0.05, 5.0, 6.0, 7.0], 6.228903746346452], [[1.0, 2.0, 0.01227074844619054, 3.0, 3.1, 4.0, 5.0, 6.0], 0.2], [[1.0, 2.0, 3.0, 4.0, 0.0005, 6.0, 7.0], 3.7751560509542523], [[0.0001, 0.0003, -0.006819962504528854, 0.0004, 0.0005], 2.9], [[1.0, 0.0003, -0.006819962504528854, 0.0004, 0.0005], 0.0004], [[1.0, 2.0, 3.0, 4.0, 0.05, 5.0, 6.0, 7.0], 0.24838213403805887], [[0.007380301819928131, 0.03, 0.04, 0.06], 0.001], [[2.0, 4.0, 6.0, 3.336555491090113, 0.4, 4.0], 27.0], [[0.01, 0.02, 0.03, 0.04, 0.05], 0.9542865797125952], [[1.0, 2.4342970911810413, 3.0, 4.0, 5.0, 6.0, 7.0], 1.1411672170968274], [[0.01, 0.02, 0.03, 0.03791583967678999, 0.893857238944507, 0.06, 0.01], 0.0005073629595648167], [[0.0, -1.0, 1.0, 2.0, 3.0, 4.0, 27.0, -3.5, 3.5, 1.0], 0.2827959124952115], [[0.01, 0.0005, 0.03, 0.04, 0.06, 0.0005], 0.03791583967678999], [[0.01, 0.04197400456083985, 0.02, 0.03, 0.04, 0.05, 0.01227074844619054], 3.683063618088875], [[0.01, 0.0005, 0.03, 0.04, 0.06], 2.1457170401182233], [[0.0, -1.0, 1.0, 2.0, 3.0, 4.0, 27.0, -3.5, 3.5], 6.228903746346452], [[1.0, 3.0, 4.0, 5.0, 6.0, 7.0], 0.5387982733401486], [[2.0, 4.0, 6.0, 5.4033516333681195, 0.4, 4.0], 0.0001], [[1.0, 2.0, 3.0, 4.0, 5.0, 6.0, 0.001, 7.0], 2.4342970911810413], [[1.0, 2.4342970911810413, 4.0, 0.05, 5.0, 6.0, 7.0], 27.0], [[1.0, 0.01, 3.0, 3.1, 0.23476792155713733, 4.0, 5.0, 6.0, 3.1], 0.24986270391526247], [[1.0, 2.0, 3.0, 4.0, 2.9127653829256737, 6.0, 7.0, 1.0], 1.4554927325266915], [[1.0, 2.0, 4.0, 5.0, 6.0, 7.0, 1.0], 1.0], [[1.0, 3.0, 4.0, 0.0005, 6.0, 7.0, 6.0], 1.9664900052081806], [[0.01, 2.9, 0.03, 0.04, 0.05, 0.06, 1.4554927325266915, 0.03, 0.05], 0.9542865797125952], [[3.1, 0.0002, 0.0003, -0.006819962504528854, 0.0004, 0.0005], 8.017463880968485], [[5.0, 0.01, 0.02, 0.03, 0.03791583967678999, 0.045686543793516186, 0.05, 0.7065364188537329], 0.04], [[1.0, 0.02, 5.0, 6.0, 7.0, 0.02], 2.1457170401182233], [[1.0, 2.0, 3.0, 3.977951750230848, 0.05, 5.0, 6.0, 7.0], 0.24838213403805887], [[1.0, 2.0, 3.0, 4.0, 5.0, 6.0, 0.001, 7.0], 6.590944440727386e-08], [[1.0, 0.02, 5.0, 6.0, 7.0, 0.02], 2.08429105386396], [[1.0, 0.0004, 2.0, 3.0, 4.0, 5.0, 6.0, 0.8868666223424293, 7.0], 0.05], [[1.0, 3.0, 4.0, 5.0, 6.0, 7.0], 1.4554927325266915], [[0.01, 0.02, 0.03, 0.04, 0.05], 0.8868666223424293], [[0.01, 0.02, 0.03, 0.04, 0.05], 0.0009414791763702169], [[1.0, 2.0, 3.0, 3.315607661618798, 0.05, 5.0, 6.0, 7.0, 2.0], 0.7065364188537329], [[2.0, 4.0, 6.0, 0.4, 4.0], 27.47663087802621], [[1.0, 2.0, 3.1860965862717294, 3.0, 4.0, 5.0, 6.0, 7.0], 1.708086464468263], [[1.0, 2.0, 3.0, 4.0, 0.05, 5.0, 6.0, 7.0], 3.387037059022768], [[2.5634647535263566, 2.0, 8.0, 6.0, 1.9946586793360759, 8.0, 10.0, 8.0], 0.04634346891165053], [[1.0, 2.4342970911810413, 4.0, 0.05, 5.0, 6.0, 7.0], 1.1577330360863296], [[0.01, 2.9, 2.419821239840023, 0.03, 0.04, 0.04634346891165053, 0.06], 8.0], [[0.01, 0.02, 0.03, 0.04, 0.05, 0.02, 0.02], 1.755200520787744], [[1.0, 2.419821239840023, 2.0, 3.0, 4.0, 5.0, 6.0, 7.0], 0.8508774465041627], [[0.0001, 0.0002, 0.0003, 0.0004, 0.0001], 4.213857109216827], [[0.5, 1.5111094718118094, 2.5, 3.5, 4.5], 1.0], [[1.0, 2.0, 3.0, 4.0, 5.0, 6.0, 7.0], 2.08429105386396], [[2.08429105386396, 2.0, 3.0, 4.0, 5.0, 6.0, 7.0], 0.05], [[2.0, 4.0, 6.0, 0.5625447923410594, 1.51437445552473, 8.0, 10.0, 4.0, 8.0], 4.553455122105357], [[0.0001, 0.0002, 0.0003, 0.0004, 0.0005, 0.0004], 4.38462765702552], [[0.0001, 0.0002, 0.0003, -0.006819962504528854, 0.0004, 0.0005], 2.9127653829256737], [[0.007380301819928131, 0.03, 0.04], 0.001], [[1.0, 2.0, 3.0, 4.0, 5.0, 6.0, 7.0], 0.7229390243163002], [[1.0, 2.4342970911810413, 4.0, 0.05, 5.0, 6.0, 7.0, 0.05], 27.0], [[1.0, 2.0, 3.0, 4.0, 5.0, 6.0, 2.419821239840023, 7.0], 0.24838213403805887], [[0.0, -1.0, 1.0, 2.0, 3.0, 4.0, 27.0, -3.5, 3.5, 3.0], 4.553455122105357], [[0.01, 0.02, 0.03, 0.03791583967678999, 4.054570532215202, 0.06, 0.01, 0.06, 0.06], 0.001], [[0.01, 0.02, -0.27533868871906764, 0.04, 0.05], 0.0011586532919994855], [[0.01, 2.9, 2.419821239840023, 0.03, 0.04, 0.04634346891165053, 0.06, 0.03], 8.0], [[0.0003, -0.006819962504528854, 0.0004, 0.0005], 2.9], [[1.0, 2.0, 3.0, 4.0, 5.0, 6.0, 7.0, 1.0], 0.0002], [[0.01, 0.02, 0.03, 2.419821239840023, 0.04, 0.05, 0.05], 5.0733752090151265], [[0.01, 0.02, 0.03, 0.04, 0.05, 0.01227074844619054], 1.6744630044015771], [[0.0001, 0.0003, -0.006819962504528854, 0.0004, 0.0005, 0.0005], 7.2430807150773235], [[1.0, 0.01, 2.9, 3.0, 3.1, 4.0, 5.0, 6.0, 2.9], 27.0], [[0.01, 0.02, 0.03, 0.059325791236410234, 0.05, 0.02, 0.02], 1.755200520787744], [[5.0, 0.01, 0.02, 0.03, 0.05, 0.06], 0.2827959124952115], [[0.01, 0.0005, 0.013650230553729176, -0.06780664179497922, 0.06], 2.1457170401182233], [[2.0, 4.0, 5.014828008723355, 0.4, 0.0003], 0.0001], [[1.0, 0.02, 5.0, 6.0, 7.0, 0.02], 2.3274149956104866], [[4.0, 5.014828008723355, 0.4, 0.0003], 0.0001], [[0.01, 0.02, 0.03, 0.05, 0.06, 0.01, 0.02], 0.4669443330518358], [[1.0, 2.4342970911810413, 3.0, 4.0, 0.05, 5.0, 6.0, 7.0, 7.0], 1.1411672170968274], [[1.0, 2.0, 3.0, 4.0, 5.0, 6.9402189819540485, 6.0, 5.014828008723355], 1e-07], [[0.01, 0.02, 0.03, 0.04, 2.6773314921583236, 0.02], 0.9542865797125952], [[0.0001, 0.0003, -0.27533868871906764, 0.0009536407568491921, 0.0004, 0.0005], 3.0], [[0.5, 1.5, 2.5, 3.5, 4.825003994623336], 10.0], [[0.01, 0.03, 0.04, 0.05, 0.02, 0.02], 1.755200520787744], [[2.0, 6.0, 8.0, 10.0], 0.04634346891165053], [[2.0, 6.0, 0.4, 4.0], 5.3502494242670515], [[0.0, -1.0, 1.0, 2.0, 3.0, 4.0, 27.0, -3.5, 3.5], 6.68643143495309], [[1.0, 2.4342970911810413, 3.0, 0.05, 5.0, 6.0, 0.013650230553729176], 0.007380301819928131], [[1.0, 2.0, 3.0, 4.0, 5.0, 6.0, 0.8868666223424293, 7.0], 0.03791583967678999], [[0.0, -1.0, 1.0, 2.0, 3.829071338957891, 3.0, 4.0, 27.0, -3.5, 3.5, 1.0], 0.2827959124952115], [[0.5, 1.5, 2.5, 4.5], 1.0], [[0.0, -1.0, 1.0, 2.0, 3.0, 4.0, 27.0, -3.5, 4.304215741453683, 3.5], 3.7751560509542523], [[2.0, 4.0, 6.0, 0.4, 10.0, 4.0], 0.3534420658062394], [[2.0, 4.0, 6.0, 0.4, 10.0], 6.7444627022613926], [[3.1, 0.0002, 0.0003, -0.006819962504528854, 0.0004, 0.0005], 10.642878332731314], [[2.5634647535263566, 2.0, 8.0, 6.0, 1.9946586793360759, 8.0, 10.0, 8.0], 0.0010156175400534142], [[4.825003994623336, 0.0003, 0.0004, 0.0005, 0.0003, 0.0003], 0.594009877170475], [[1.0, 2.0, 3.0, 4.0, 5.0, 6.0, 7.0], 0.600290365588201], [[0.01, -0.8949378651725157, 0.03, 0.06, 0.0005], 0.03791583967678999], [[1.0, 2.0, 3.0, 4.0, 0.05, 5.0, 6.0, 7.0], 3.683063618088875], [[5.0, 0.01, 0.02, 0.042389595586331735, 0.05, 0.06], 0.0006358241690821189], [[1.0, 2.0, 3.0, 4.0, 5.0, 7.399847577172071], 0.8868666223424293], [[0.0, -1.0, 1.0, 2.0, 3.829071338957891, 3.0, 4.0, 27.0, -3.5, 3.5, 1.0], 10.0], [[1.0, 2.0, 3.0, 4.0, 5.0, 7.0], 10.642878332731314], [[1.0, 2.0, 3.0, 4.0, 5.0, 6.9402189819540485, 7.399847577172071, 5.014828008723355], 1e-07], [[0.0001, 0.0002, 0.0003, 0.0004], 1e-05], [[1.0, 3.0, 4.0, 0.0002, 6.0, 7.0], 0.6470225461664522], [[0.01, 2.9, 2.419821239840023, 0.03, 0.05, 0.06], 0.0008004009304922934], [[1.0, 0.01, 2.9, 3.0, 3.1, 4.0, 5.0, 6.0, 2.9], 5.201263047726941], [[3.1, 0.0003, -0.006819962504528854, 0.0004, 0.0005], 7.399847577172071], [[2.5634647535263566, 2.0, 8.0, 6.0, 1.9946586793360759, 10.0, 8.0], 0.0010156175400534142], [[1.0, 2.0, 2.9, 3.0, 3.1, 4.0, 5.0, 6.0, 5.0], 0.25], [[1.0, 2.0, 3.0, 4.0, 0.05, 5.0, 6.0, 7.0, 2.0], 3.683063618088875], [[0.9444541835001738, 0.01, 0.03, 0.05, 0.06], 2.419821239840023], [[1.0, 2.4342970911810413, 3.0, 4.0, 1e-05, 5.0, 6.0, 7.0], 27.0], [[0.0, 0.4999502067248638, -1.0, 1.0, 2.0, 3.0, 4.0, 27.0, -3.5, 3.5], 27.0], [[0.5, -1.0, 1.0, 2.0, 3.0, 4.0, 27.0, -3.5, 3.5, 27.0], 0.7151289158513581], [[0.01, 2.9, 0.03, 0.04, 0.05, 0.06, 1.4554927325266915, 0.03, 0.05, 0.01], 1.0360154563405675], [[0.5, 1.5, 2.5, 0.04, 2.5], 1.0], [[0.9444541835001738, 0.01, 0.03, 0.05, 0.06], 2.3395504526237794], [[1.0, 2.0, 0.05, 4.0, 5.0, 6.0, 7.0], 0.8868666223424293], [[1.0, 2.0, 2.9, 3.0, 3.1, 4.0, 5.0, 6.0], 0.007380301819928131], [[1.0, 2.0, 3.0, 4.0, 0.05, 5.0, 6.0, 2.0, 2.0], 3.683063618088875], [[1.0, 0.01, 2.9, 3.0, 3.1, 5.0, 6.0, 2.9], 27.0], [[0.0001, 0.0002, 0.0003, 0.0004, 0.0005, 0.0002, 0.0005], 2.6773314921583236], [[0.0, -1.0, 1.0, 2.0, 3.0, 4.0, 27.0, -3.5, 3.5], 7.225039884550139], [[0.5, -1.0, 4.269982226498507, 1.0, 2.0, 3.0, 4.0, 27.0, -3.5, 3.5, 27.0], 0.5711414757852395], [[1.0, 0.01, 3.0, 3.1, 0.23476792155713733, 4.0, 5.0, 6.0], 1.0360154563405675], [[1.0, 2.0, 4.0, 5.0, 6.0, 7.0, 1.0], 0.3890763430948263], [[1.0, 2.0, 3.0, 2.0606451994556956, 4.0, 0.05, 5.0, 6.0, 7.0, 2.0], 1.102977098003074], [[0.01, 0.02, 0.03791583967678999, 0.05, 0.06, 0.01], 0.001], [[2.0, 4.0, 6.0, 5.4033516333681195, 2.3395504526237794, 0.4], 0.3534420658062394], [[0.01, 0.02, 0.03, 0.059325791236410234, 0.05, 0.02, 0.02], 0.027867437909801628], [[0.0, -1.0, 1.0, 2.0, 3.0, 4.0, 27.0, -3.5, 4.304215741453683, 3.5, 3.5], 3.131534811796164], [[1.0, 2.0, 3.0, 4.0, 5.0, 6.0, 7.0], 0.0502891524344419], [[1.0, 2.0, 3.0, 2.0606451994556956, 8.37882881008273, 4.0, 0.05, 5.0, 6.0, 7.0, 2.0], 1.102977098003074], [[1.0, 0.9871331053114625, 0.02, 5.0, 6.0, 7.0, 0.02, 0.02], 2.08429105386396], [[0.01, 0.0005, 0.03, 0.05932438898119835, -0.7326221293497102, 0.04, 0.06], 6.183363942162173], [[1.0, 0.9871331053114625, 0.02, 1.0, 5.0, 6.0, 7.0, 0.02, 0.02], 2.08429105386396], [[1.0, 2.0, 3.0, 4.0, 5.0, 7.0], 10.185523116280718], [[1.0, 2.0, 3.0, 0.0009414791763702169, 5.0, 6.0, 7.0], 27.193721294621852], [[0.0001, 0.0002, 0.0003, 0.0004, 0.0005, 0.0004], 3.2821767032590996], [[1.0, 2.0, 3.0, 4.0, 0.05, 5.0, 6.0, 7.0, 2.0, 7.0], 3.683063618088875], [[0.0001, 0.0002, 0.0003, 0.0004, 0.0005], 2.9402582316081283], [[1.0, 2.0, 3.0, 5.0, 6.0, 7.0], 26.282659737726185], [[2.0, 4.0, 6.0, 8.0, 5.403976711699473, 10.0], 0.0009414791763702169], [[0.0002, 0.0003, 0.0004, 0.0005, 0.0003, 5.014828008723355, 0.0003], 0.789287426857672], [[0.5, -1.0, 4.269982226498507, 1.0, 2.0, 3.0, 4.0, 27.0, -3.5, 3.5, 27.0], 0.0003], [[1.0, 0.02, 3.0, 5.0, 6.0, 7.0, 0.02], 0.042389595586331735], [[1.0, 2.0, 3.0, 4.0, 0.05, 5.0, 6.0, 7.0, 2.0], 0.3534420658062394], [[1.0, 2.0, 3.0, 4.0, 5.0, 6.0, 7.0, 2.0], 0.01], [[0.01, 0.02, 0.03, 0.03791583967678999, 0.05, 0.06, 0.01, 0.06], 4.304215741453683], [[1.0, 0.02, 3.0, 6.0, 7.0, 0.02], 0.042389595586331735], [[0.02, 0.03, 0.04, 1.0360154563405675, 0.05, 0.01227074844619054], 0.0003], [[0.0, -1.0, 1.0, 0.04197400456083985, 2.0, 3.829071338957891, 3.0, 4.0, 27.0, -3.5, 3.5, 1.0], 0.2827959124952115], [[0.01, 0.02, 0.03, 0.04, 2.6773314921583236, 0.02], 0.005887799165131287], [[0.01, 0.02, 0.03, 0.059325791236410234, 0.05, 0.02, 0.02], 1.4993923432941396], [[1.0, 2.0, 3.0, 4.0, 0.05, 5.0, 6.0, 7.0], 3.7839809460634433], [[2.0, 4.0, 6.0, 8.0, 10.0, 4.0, 8.0], 5.131388046991181], [[-0.7729905017969014, 2.9, 2.419821239840023, 0.03, 0.04, 0.04634346891165053, 0.06], 8.0], [[0.0001, 0.01227074844619054, 0.0002, 0.0003, 0.0004, 0.0005], 0.03791583967678999], [[0.5, 4.707106369313676, 3.5, 4.5], 0.9398359014750373], [[1.0, 2.0, 3.0, 4.0, 0.05, 5.0, 6.0, 7.0], 0.9558014097399574], [[0.01, 2.9, 2.419821239840023, 0.03, 0.04, 0.05, 0.06, 2.419821239840023], 0.001], [[0.01, 2.9, 2.419821239840023, 0.03, 0.04, 0.04634346891165053, 0.06], 3.336555491090113], [[5.0, 0.01, 0.02, 0.03, 0.03791583967678999, 0.05, 0.06], 3.1860965862717294], [[1.0, 0.02, 5.0, 6.0, 7.0, 0.5263830228573201, 0.02], 2.1457170401182233], [[0.01, 2.9, 0.03, 0.04, 0.05, 0.06], 0.0006673677650111161], [[1.0, 2.0, 3.0, 4.0, 0.05, 5.0, 7.0, 2.0], 0.3534420658062394], [[0.01, 2.9, 0.03, 0.04, 8.37882881008273, 0.05, 0.06, 1.4554927325266915, 0.03, 0.05], 0.0008725863467467227], [[1.0, 2.0, 3.0, 4.0, 5.0, 6.0, 0.001, 7.0], 7.0], [[2.0, 2.75293271310049, 4.0, 6.0, 8.0, 10.0, 4.0, 8.0], 0.013650230553729176], [[1.0, 2.0, 3.0, 2.0606451994556956, 8.37882881008273, 4.0, 0.05, 5.0, 6.0, 7.0, 2.0], 1.618801007880505], [[1.0, 2.0, 3.0, 4.0, 5.0, 6.0], 0.5387982733401486], [[0.0001, 0.0002, 0.0003, -0.006819962504528854, 0.0004, 0.0005], 0.24838213403805887], [[1.0, 2.0, 3.0, 4.0, 5.0, 6.0, 2.419821239840023, 7.0, 2.419821239840023], 0.24838213403805887], [[1.0, 0.01, -0.06815452088182485, 2.9, 3.0, 3.1, 4.0, 5.0, 6.0], 27.0], [[5.0, 0.01, 0.02, 0.042389595586331735, 0.05, 0.06], 1.0847366056573635], [[0.0002, 0.0003, 0.0004, 0.0005, 0.0003, 1.708086464468263, 0.0003], 2.75293271310049], [[0.0, -1.0, 1.0, 2.0, 5.014828008723355, 3.0, 4.0, 26.59683000784765, -3.5, 3.5], 0.5815567161870863], [[0.0001, 0.0003, -0.030250000422550983, -0.006819962504528854, 0.0004, 0.0005], 2.9], [[0.0001, 0.0002, 0.0003, -0.006819962504528854, 0.0004, 0.0005, -0.006819962504528854], 5.0], [[0.7096432995314886, 2.0, 3.0, 4.0, 0.05, 5.0, 6.0, 2.0, 2.0], 3.683063618088875], [[0.0, -1.0, 1.0, 2.0, 3.0, 4.0, 27.0, 1.100738298890903, -3.5, 4.304215741453683, 3.5], 0.9542865797125952], [[0.0, -1.0, 1.0, 2.0, 5.014828008723355, 3.0, 4.0, 26.59683000784765, -3.5, 3.5], 0.9050379093359746], [[0.01, 0.02, 0.03, 0.01, 4.054570532215202, 0.06, 0.01, 0.06, 0.06], 0.006716836510310619], [[1.0, 2.0, 3.0, 4.0, 0.05, 5.0, 6.0, 0.05, 2.0, 7.0], 3.683063618088875], [[1.4993923432941396, 3.1860965862717294, 4.0, 6.0, 8.0, 10.0], 0.4], [[2.0, 4.0, 6.0, 5.4033516333681195, 0.4], 0.0004122425760694817], [[0.5, 1.5, 2.5, -0.27533868871906764, 3.5, 4.5], 1e-05], [[0.0003, -0.006819962504528854, 0.0004, 0.0005], 7.399847577172071], [[0.01, 0.02, 0.03, 0.05, 0.01, 0.02, 0.02], 0.8868666223424293], [[1.0, 2.0, 3.0, 4.0, 5.0, 6.0, 7.0], 3.683063618088875], [[1.0, 2.0, 3.0, 4.0, 5.0, 7.399847577172071], 0.0005073629595648167], [[0.01, 0.02, 0.04, 0.05], 0.9542865797125952], [[0.5, 1.102977098003074, 4.707106369313676, 3.5, 4.5, 4.5], 0.9398359014750373], [[0.01, 0.021833973753664755, 0.03, 0.03791583967678999, 0.06, 0.06], 0.001], [[0.0002, 0.0003, 0.0004, 0.0005, 0.0003, 5.014828008723355, 0.0003], 1.3212198385239968], [[0.0, -1.0, 1.0, -0.16326763997955143, 2.0, 3.829071338957891, 3.0, 4.0, 27.0, -3.5, 3.5, 1.0], 8.061836554982653], [[0.0003, -0.006819962504528854, 0.0004, 0.0005], 4.269616913125106], [[0.0001, -0.27533868871906764, 0.0009536407568491921, 0.0004, 0.0005], 3.0], [[2.0, 8.0, 6.0, 8.0, 10.0, 8.0], 6.228903746346452], [[4.825003994623336, 0.0003, 0.0004, 0.0005, 0.0003, 0.0003], 5.403976711699473], [[5.0, 0.01, 0.02, 0.042389595586331735, 0.05, 3.2821767032590996, 0.06], 0.0006358241690821189], [[2.9, 2.419821239840023, 0.03, 0.04, 0.04634346891165053, 0.06, 0.03], 8.0], [[0.0001, 0.0002, -0.27533868871906764, 0.0004, 0.0005, 0.0005], 2.6773314921583236], [[0.01, 0.02, 0.03, 0.04, 0.05, 0.06], 0.7725607080713995], [[0.0, -1.0, 1.0, 2.0, 3.0, 4.0, 27.0, -3.5, 3.5], 7.70121119631152], [[0.0, -1.0, 1.0, 2.0, 3.0, 4.0, 27.0, -3.5, 3.5, 3.0], 0.4331831907404256], [[4.207007693261625, 1.0, 2.4342970911810413, 3.0, 4.0, 5.0, 6.0, 7.0], 1.0106005504771685], [[2.0, 4.0, 6.0, 8.0, 10.0, 4.0], 5.131388046991181], [[1.0, 0.02, 3.0, 5.0, 1.618801007880505, 6.0, 4.304215741453683, 7.0, 0.02], 1e-07], [[1.0, 2.0, 3.1860965862717294, 3.0, 4.0, 5.0, 6.0, 7.0], 2.0], [[1.0, 2.0, 3.0, 4.0, 0.05, 5.0, 6.0, 7.0, 0.05], 3.683063618088875], [[1.0, 0.01, 3.0, 3.1, 0.23476792155713733, 4.0, 5.0, 6.0], 0.2772899676429811], [[1.0, 2.0, 3.0, 4.0, 5.0, 6.0, 8.37882881008273, 1.0], 0.2], [[1.0, 0.02, 5.0, 6.0, 7.0, 0.02], 1.9860730410164709], [[2.0, 4.0, 6.0, 5.4033516333681195, 0.4, 4.0], 3.315607661618798], [[1.0, 0.02, 3.0, 5.0, 6.0, 7.0, 0.02], 0.01227074844619054], [[2.3400273371960676, 4.0, 6.0, 5.4033516333681195, 4.0, 5.4033516333681195], 0.0001], [[0.0, -1.0, 1.0, 2.0, 3.0, 4.0, 27.0, -3.580482925816506, -3.5, 3.5, 27.0], 0.5], [[1.0, 0.06, 2.0, 3.0, 4.118042003638617, 5.0, 6.0], 4.5], [[0.0001, 0.0002, 0.0003, -0.006819962504528854, 0.9398359014750373, 0.0004, 0.0005], 7.2430807150773235], [[2.0, 6.0, 9.216677069885835, 8.0, 10.0], 0.04634346891165053], [[0.0001, -0.22767713648120685, 0.0002, 0.0003, 0.0004, 0.0005], 5.211766856970217], [[1.0, 2.0, 3.0, 4.0, 5.0, 6.0, 2.56619380468057, 2.419821239840023, 7.0], 0.24838213403805887], [[4.825003994623336, 0.5, 1.5, 2.5, 3.5, 4.5], 0.25], [[1.0, 2.0, 3.0, 3.977951750230848, 0.05, 5.0, 6.0, 7.0], 6.632548653669971], [[1.0, 2.0, 3.0, 4.0, -0.9072789910697825, 0.05, 5.0, 6.0, 7.0], 0.02], [[0.01, 0.0005, 0.03, 0.04, 6.9402189819540485], 0.893857238944507], [[1.0, 2.0, 3.0, 4.0, 5.0, 6.0, 7.0], 27.47663087802621], [[0.0, -1.0, 1.0, 2.0, 3.0, 4.0, 3.377369558845854, 27.0, -3.5, 3.5], 0.0004], [[1.0, 0.02, 3.0, 5.0, 6.0, 7.0, 0.02, 5.0], 0.01], [[0.6655714742375217, 1.0, 2.4342970911810413, 3.0, 0.021833973753664755, 0.05, 5.0, 6.0, 0.013650230553729176], 0.007380301819928131], [[0.01, 2.9, 2.419821239840023, 0.03, 0.04, 0.04634346891165053, 0.06, 0.04634346891165053], 2.679379582047326], [[4.825003994623336, 0.0003, 0.0004, 0.0005, 0.0003, 0.0003], 5.411626898204074], [[0.0001, 0.0003, -0.006819962504528854, 0.0005], 7.2430807150773235], [[1.0, 2.0, 3.0, 4.0, 0.05, 5.0, 6.0, 2.0, 7.0], 0.5711414757852395], [[1.0, 2.0, 3.0, 4.0, 0.05, 5.0, 6.0, 2.0], 0.022759404545522027], [[0.01, 0.02, 0.03, 0.04, 0.05, 0.02], 1.755200520787744], [[1.0, 0.01, 2.9, 3.1, 4.0, 5.0, 6.0, 2.9], 27.0], [[0.02, 0.059325791236410234, 0.05, 0.02, 0.02], 1.4993923432941396], [[0.0003, -0.006819962504528854, 0.0004, 0.0005], 4.340828290832549], [[2.0, 4.0, 6.0, 8.0, 5.403976711699473, 10.0, 8.0, 6.0], 10.0], [[0.0001, 0.0003, -0.27533868871906764, 0.0009536407568491921, 0.0004, 0.0005], 0.7414707820047213], [[1.0, 2.0, 3.0, 4.0, 5.0, 6.0], 0.44762851805972015], [[0.01, 2.9, 1.0360154563405675, 0.04, 0.05, 0.06, 1.4554927325266915, 0.03, 0.05, 0.01, 0.03], 1.0360154563405675], [[1.0, 2.4342970911810413, 4.0, 0.05, 5.0, 6.0, 7.0], 0.802637240504182], [[2.0, 6.0, 8.0, 10.0], 1e-07], [[0.0002, 0.0003, 0.0004, 0.0005, 0.0003, 0.0003], 0.6489175574170188], [[0.0, -1.0, 1.0, 2.0, 3.0, 4.0, 27.0, -3.5, 3.5, 3.5], 6.228903746346452], [[0.0, -1.0, 1.0, 2.0, 3.0, 4.0, 27.0, -3.5, 3.5, -3.5], 0.9542865797125952], [[0.01, 0.0005, 0.03, 0.05932438898119835, 0.04, 0.06], 10.790844489872772], [[0.0, -1.0, 1.0, 2.0, 3.0, 4.0, 27.0, -3.5], 7.0], [[1.0, 2.0, 3.0, 4.0, 0.05, 5.0, 7.0, 2.0, 0.05, 3.0], 0.3534420658062394], [[2.0, 4.0, 6.0, 0.4, 10.0], 0.9558014097399574], [[1.0, 2.4342970911810413, 4.0, 0.05, 0.04, 6.0, 7.0], 27.0], [[0.0, 2.659980261058331, -1.0, 1.0, 2.0, 0.021833973753664755, 4.0, 27.0, -3.5, 3.5, 3.5], 6.228903746346452], [[4.255813280022656, 6.0, 8.0, 5.403976711699473, 10.0], 0.7956675398145175], [[0.01, 0.24838213403805887, 0.02, 0.03, 0.04, 2.6773314921583236, 0.02], 0.005887799165131287], [[0.0002, 0.0003, 0.0004, 0.0004485548180518373, 0.0003, 0.0003], 0.594009877170475], [[0.0001, 0.0002, 0.0003, 3.336555491090113, 0.0004, 0.0005], 3.1], [[1.0, 2.0, 3.0, 4.0, 5.0, 6.0, 6.0], 4.5], [[1.0, 3.0, 4.0, 5.0, 6.0, 7.0], 0.4532228429190308], [[1.0, 2.9, 3.0, 3.1, 4.0, 6.3735257878253915, 6.0, 2.9], 27.0], [[0.01, 0.03, 0.04, 0.05, 0.02, 0.02], 0.0008004009304922934], [[0.01, 1e-07, 0.03, 0.04, 0.05, 0.06, 0.06], 1.7911713583873752], [[1.0, 2.0, 3.922035319334845, 8.37882881008273, 4.0, 0.05, 5.0, 6.0, 7.0, 2.0], 1.102977098003074], [[0.01, 0.03, 0.03791583967678999, 0.893857238944507, 0.06, 0.01], 0.0005073629595648167], [[0.0, -1.0, 2.5, 2.0, 3.0, 4.0, 27.0, -3.5, 4.304215741453683, 3.5], 3.7751560509542523], [[1.0, 0.02, 5.0, 6.0, 7.0, 0.02, 5.0], 2.3274149956104866], [[1.0, 2.601345997419306, 3.7751560509542523, 0.0003, 5.0, 3.849505997336694, 6.0, 7.0], 0.021833973753664755], [[-4.3252207937307645, 0.0, -1.0, 1.0, 2.0, 3.0, 4.0, -3.580482925816506, -3.5, 3.5, 27.0], 0.5], [[0.01, 0.02, 0.03, 0.04, 0.05, 0.04], 0.0009414791763702169], [[0.0, 1.0, 2.0, 3.0, 4.0, 27.0, 3.5, -1.0], 5.582758456545748], [[1.0, 2.0, 6.7444627022613926, 3.0, 4.0, -0.9072789910697825, 0.05, 5.0, 6.0, 7.0], 0.02], [[1.0, 2.0, 3.0, 4.0, 0.05, 5.0, 7.0, 2.0], 0.6470225461664522], [[0.0, -1.0, 2.0, 5.014828008723355, 3.0, 4.0, 26.59683000784765, -3.5, 3.5], 0.9050379093359746], [[1.9946586793360759, 0.01, 0.0005, 2.9, 3.0, 3.1, 4.0, 6.0], 0.2], [[0.01, 2.9, 0.03, 0.04, 0.05, 0.06, 1.4554927325266915], 0.0012719939355331437], [[1.0, 3.0, 4.0, 0.0005, 6.0, 7.0], 1.7911713583873752], [[2.0, 4.0, 6.0, 0.4, 0.3447084736360619, 10.0], 7.0], [[0.0001, 0.0002, 0.0003, 0.0004, 0.0005, 0.0005, 0.0004, 0.0001], 3.538513332792748], [[0.0, -1.0, 1.0, 2.0, 3.0, 4.0, -3.5140033340302423, 27.0, -3.5, 3.5], 0.0002], [[1.0, 2.9620795172535885, 3.0, 4.0, 0.0005, 6.0, 7.0], 1.7911713583873752], [[0.0001, 0.0002, 0.0003, 0.0004, 0.0005], 0.6489175574170188], [[0.0005, 0.03, 0.06, 0.01], 2.1457170401182233], [[0.5, 1.5, 2.5, 3.5, 4.825003994623336], 9.90308269933195], [[1.0, 2.0, 3.0, 4.0, 5.0, 6.0, 27.0], 0.600290365588201], [[0.0001, 0.0002, 0.0003, 0.0004, 0.0005, 0.0001], 2.9402582316081283], [[1.0, 2.0, 3.0, 4.0, 5.0, 6.0, 7.0], 0.9444541835001738], [[2.0, 4.218733523206513, 6.0, 5.4033516333681195, 3.5285735945225642, 0.4], 0.00023229691767854852], [[0.5, 1.5, 4.707106369313676, 3.342595209123399, 4.5], 0.24838213403805887], [[0.0001, 0.0002, 0.0003, 0.8896291569375017, -0.006819962504528854, 0.9398359014750373, 0.0004, 0.0005], 7.2430807150773235], [[2.5634647535263566, 2.0, 8.0, 6.0, 1.9946586793360759, 8.0, 10.0, 8.0], 0.059957016595901566], [[5.0, 0.01, 0.02, 0.03, 0.05, 0.06], 1.9664900052081806], [[0.5, 4.707106369313676, 3.5, 4.5, 4.5], 0.9398359014750373], [[1.0, 0.01, 3.0, 3.1, 0.23476792155713733, 5.0, 6.0, 6.0], 1.0360154563405675], [[0.01, 0.03, 0.04, 0.05, 0.02, 0.02], 1.6364588638792592], [[1.0, 2.0, 6.7444627022613926, 3.0, 4.0, -0.9072789910697825, 0.05, 5.0, 4.426265028179823, 7.0], 0.02], [[0.5, -1.0, 4.269982226498507, 1.0, 2.0, 3.0, 4.0, 27.0, -3.5, 3.5, 27.0], 0.17240258123693275], [[2.0, 4.0, 8.0, 10.0], 0.02], [[0.0001, 0.0002, 0.0003, -0.006819962504528854, 0.9398359014750373, 0.0004, 0.0005], 0.893857238944507], [[0.01, 2.9, 2.419821239840023, 0.03, 0.04, 0.04634346891165053, 0.06, 0.03, 0.03], 8.0], [[0.01, 0.02, 0.03, 3.336555491090113, 0.04, 2.6773314921583236, 0.02], 0.005887799165131287], [[4.825003994623336, 0.0003, 0.0004, 5.904014104282201, 0.0005, 0.0003, 0.0003, 0.0005], 5.403976711699473], [[0.0001, 0.0002, 0.0003, 0.0004], 3.0], [[0.802637240504182, 0.01, 0.02, 0.03, 0.04, 0.05, 0.02, 0.02], 0.9542865797125952], [[0.01, 0.02, 0.03, 0.059325791236410234, 0.05, 0.02, 0.02], 1.144602497157043], [[0.8142288290952835, 0.0002, 0.0003, 0.0004, 0.0005, 0.0003, 0.0003], 0.006716836510310619], [[6.7444627022613926, 2.0, 4.0, 6.0, 8.0, 10.0], 0.4], [[1.0, 0.02, 3.0, 5.0, 6.0, 7.0, 0.02], 0.021833973753664755], [[0.01, 0.03, 0.05, 0.06892408290740569], 2.419821239840023], [[1.0, 3.0, 5.0, 6.0, 7.0], 26.282659737726185], [[1.0, 2.4342970911810413, 3.0, 4.0, 0.033961556329515134, 5.0, 6.0, 7.0], 27.0], [[1.0, 2.0, 3.0, 7.038704429028608, 0.009949556820244546, 2.9127653829256737, 6.0, 7.0, 1.0], 1.4554927325266915], [[0.0, -1.0, 1.0, 2.0, 3.829071338957891, 3.0, 4.0, 27.0, -3.5, 3.5, 1.0], 0.8548480106066842], [[2.0, 4.0, 6.0, 0.5625447923410594, 1.51437445552473, 8.0, 10.0, 4.0, 8.0], 1.100738298890903], [[1.0, 2.0, 3.0, 4.0, 5.0, 6.0, 7.0, 1.0], 0.05807174308470063], [[5.0, 0.01, 0.02, 0.03, 0.05, 0.06], 0.000867131833869878], [[0.01, 2.9, 2.419821239840023, 0.03, 0.04634346891165053, 0.06], 3.849505997336694], [[1.0, 2.0, 3.0, 5.0, 6.0, 0.001, 7.0, 7.0], 3.7751560509542523], [[0.01, 0.0005, 0.03, 0.05932438898119835, 0.04, 0.06, 0.01], 10.0], [[0.01, 2.9, 0.03, 0.04, 8.37882881008273, 0.05, 0.06, 1.4554927325266915, 0.05], 1.144602497157043], [[1.0, 0.02, 3.0, 5.0, 6.0, 7.0, 4.207007693261625, 0.02], 0.042389595586331735], [[0.01, 0.02, 0.03, 0.059325791236410234, 0.05, 0.02, 0.02, 0.02], 1.144602497157043], [[0.0, -1.0, 1.0, 2.0, 3.0, 4.0, 27.0, -2.8177684712300657, 3.5], 0.789287426857672], [[0.01, 0.02, 0.03, 0.04, 0.05, 0.029170043001495866], 0.9542865797125952], [[0.02, 0.03, 0.04, 0.009949556820244546, 0.05, 0.01227074844619054], 0.0003], [[0.0001, 0.0002, -0.27533868871906764, 0.0004, 0.0005], 2.6773314921583236], [[0.01, 0.03, 0.04, 0.05, 0.06, 1.4554927325266915, 0.03, 0.05], 0.001], [[1.0, 2.4342970911810413, 4.0, 0.05, 5.325152364221977, 6.0, 7.0], 27.0], [[0.5, 4.707106369313676, 3.5, 4.5], 1.3488978560690985], [[0.7725607080713995, 0.01, 0.0005, 0.013650230553729176, -0.06780664179497922, 0.06], 2.1457170401182233], [[0.01, 0.03, 0.05, 0.06], 3.1860965862717294], [[0.0, -1.0, 1.0, 2.0, 3.829071338957891, 3.0, 4.0, 27.0, -3.5, 3.5, 1.0], 2.601345997419306], [[1.0, 2.0, 3.0, 4.0, 0.0005, 6.0, 7.0], 4.437496596436557], [[0.01, 0.02, -0.27533868871906764, 0.04, 0.05], 26.59683000784765], [[0.0, 1.0, 2.0, 3.0, 4.0, 27.0, 3.5, -1.0], 5.000839689569684], [[1.0, 2.0, 3.0, 4.0, 0.0005, 6.0, 7.0, 4.0], 1.1411672170968274], [[0.0, -1.0, 1.0, 2.0, 3.829071338957891, 3.0, 4.0, 27.423951036085555, -3.5, 3.5, 1.0], 0.8548480106066842], [[0.01, 0.02, 0.03, 0.04, 0.05], 1.755200520787744], [[0.007380301819928131, 0.03, 0.04, 0.06], 4.255813280022656], [[], 0.5], [[1.0, 2.0, 3.0, 4.0, 5.0, 6.0], 0.5], [[1.0, 1.5, 2.0, 2.5, 3.0], 0.25], [[1.0, 2.0, 3.0], 1.5], [[1.0, 1.0, 1.0], 0.01], [[], 0.1], [[1.0], 0.5], [[2.0, 2.0, 2.0, 2.0], 0.1], [[1.0, 1.0, 1.0], 0.5], [[1.0, 1.0, 1.0, 1.0], 0.1], [[0.5, 1.5, 2.5, 3.5, 4.5], 0.05], [[0.0, -1.0, 1.0, 2.0, 3.0, 4.0, 27.0, -3.5, 3.5], 0.7083071514757247], [[0.01, 0.02, 0.03, 0.04, 0.05, 0.06], 0.06], [[0.01, 0.02, 0.04, 0.05, 0.06], 5.0], [[0.01, 0.02, 0.03, 0.04, 0.05, 0.06], 0.5], [[0.01, 0.02, 0.03, 0.04, 0.05], 0.0008183165574820457], [[0.0, -1.0, 1.0, 2.0, 3.0, 4.0, 27.0, -3.5, 3.5], 2.0], [[0.01, 0.02, 0.03, 0.04, 0.05, 0.06], 0.0005], [[0.0001, 0.0003, 0.0004, 0.0005], 1e-05], [[0.01, 0.02, 0.04, 0.05, 0.06, 0.06], 6.0], [[2.7988043965985527, 1.0, 2.0, 3.0, 4.0, 5.0, 6.0, 7.0], 1e-07], [[0.0001, 0.0002, 0.0003, 0.0004, 0.0005, 0.0005], 1e-05], [[1.0, 2.0, 3.0, 4.0, 5.0, 6.0, 7.0, 4.0], 4.0], [[0.0001, 0.0002, 0.0004], 1e-05], [[2.7988043965985527, 1.0, 2.0, 3.0, 4.0, 5.0, 6.0, 7.0], 6.188660714217425e-08], [[0.0001, 0.0002, 0.0003, 0.0004, 0.0005, 0.0005], 0.25], [[0.0, -1.0, 1.0, 2.0, 3.0, 4.0, 27.0, -3.5, 3.5], 4.0], [[0.0, -1.0, 1.0, 2.0, 3.0, 4.0, 27.0, -3.5, 3.5, 2.0], 1.058764554720106], [[0.01, 0.02, 0.03, 0.04, 0.05], 0.0007771726708529467], [[0.0, -1.0, 1.0, 2.0, 3.0, 4.0, 27.0, -3.5, 3.5, 2.0], 10.0], [[0.01, 0.02, 3.1, 0.04, 0.05], 0.0008183165574820457], [[0.01, 0.02, 0.03, 0.04, 0.05, 0.19855506282254765, 0.02], 0.0008183165574820457], [[0.0001, 0.0002, 0.0003, 0.0004, 0.0005, 2.5], 0.0007771726708529467], [[0.0, -1.0, 1.0, 0.25, 2.0, 3.0, 4.0, 27.0, -3.5, 3.5, 2.0], 10.360620825036374], [[0.0001, 0.0002, 0.0003, 0.0004, 0.0005], 0.0007771726708529467], [[0.01, 0.02, 0.03, 0.04, 0.05, 0.06], 0.03651838361176652], [[0.01, 0.02, 0.03, 0.04, 0.05, 0.06], 0.9236125030833611], [[0.01, 0.02, 0.03, 0.04, 0.05, 0.06], 0.9737832702287503], [[0.0, -1.0, 1.0, 2.0, 3.0, 4.0, 27.0, -3.5, 3.5, 2.0], 3.4789370733342704], [[0.0001, 0.0002, 0.0003, 0.0004, 0.0005, 2.5], 1e-07], [[0.01, 0.02, 0.8648911287584085, 0.04, 0.05, 0.06], 0.9737832702287503], [[2.7988043965985527, 2.0, 3.0, 4.0, 5.0, 5.932113294381724, 7.0, 5.932113294381724], 1e-07], [[8.295393364433108e-05, 0.0001, 0.0002, 0.0003, 0.0004849742100830799, 0.0005], 0.0007771726708529467], [[1.0, 2.0, 3.0, 4.0, 5.0, 6.0, 7.0], 0.7083071514757247], [[1.0, 2.0, 3.0, 4.0, 5.0, 6.0, 7.0, 4.0, 3.0], 3.4789370733342704], [[0.0, -1.0, 1.0, 2.0, 3.0, 4.0, 27.0, -3.5, 3.5], 0.03651838361176652], [[0.01, 0.02, 0.03, 0.04, 0.05, 0.19855506282254765, 0.02], 0.000548796898517503], [[0.0, -1.0, 1.0, 2.0, 3.0, 4.369218129512683, 27.0, -3.5, 3.5, 2.9779710358778804], 1.058764554720106], [[0.01, 0.02, 0.03, 0.04, 0.05, 0.19855506282254765, 0.02], 3.0], [[0.01, 0.02, 0.03, 0.04, 0.05, 0.19855506282254765, 0.02], 0.5], [[1.0, 2.0, 3.0, 4.0, 5.0, 6.0, 7.0, 4.0, 3.0, 3.0], 3.4789370733342704], [[1.0, 2.0, 3.0, 4.0, 5.0, 6.0, 7.0, 4.0, 5.0], 4.0], [[0.0, -1.0, 1.0, 2.0, 3.0, 4.0, 27.0, -3.5, 3.5], 4.193063041333624], [[0.0001, 0.0002, 0.0003, 0.0004, 0.0005, 0.0005], 0.46351556489778956], [[0.01, 0.02, 0.03, 0.7320067664244609, 0.05, 0.06], 0.9236125030833611], [[0.0001, 0.0002, 0.0003, 0.0004, 0.0005, 2.5], 1.4543394246565962], [[0.0, -1.0, 1.0, 2.0, 3.0, 4.0, 27.0, -3.5, 3.5], 27.0], [[0.5, 1.5, 2.5, 3.5, 4.5], 0.8425562127638513], [[2.7988043965985527, 2.0, 3.0, 5.0, 5.932113294381724, 7.0, 5.932113294381724], 2.9], [[0.0001, 0.0002, 0.0003, 0.0004, 0.0005, 2.5, 0.0005], 1e-07], [[1.0, 2.0, 3.0, 4.0, 4.369218129512683, 6.0, 7.0, 4.0, 3.0, 3.0], 3.4789370733342704], [[0.0001, 0.0002, 0.0004], 9.79457777984249e-06], [[0.0001, 0.0002, 0.0004, 0.0005, 0.0005], 1e-05], [[1.0, 2.0, 0.5976080106510826, 3.0, 4.0, 5.0, 2.3835494666772767, 6.0, 7.0, 4.0], 4.0], [[0.01, 0.02, 0.0129477300365736, 0.8648911287584085, 8.295393364433108e-05, 0.05, 0.06, 0.05], 0.6516471400282701], [[1.0, 0.5976080106510826, 3.0, 4.0, 0.0003, 5.0, 2.3835494666772767, 6.0, 7.0, 4.0], 10.0], [[0.0, -1.0, 1.0, 2.0, 3.0, 4.0, 27.0, -3.5, 3.5, 0.0], 0.03651838361176652], [[2.7988043965985527, 1.0, 2.0, 3.0, 5.0, 6.0, 7.0], 6.188660714217425e-08], [[1.0, 3.4789370733342704, 2.0, 3.0, 4.0, 5.0, 3.1, 6.0, 7.0], 1.0], [[0.0001, 0.0002, 0.0003, 0.0004, 0.0005, 0.0005], 0.34173466739005054], [[0.9737832702287503, 0.01, 0.02, 0.03, 0.04, 0.05, 0.19855506282254765, 0.05], 0.0008183165574820457], [[2.546056560331472, 0.5, 1.5, 2.5, 3.5, 4.5], 0.8425562127638513], [[-0.5687577928549921, 0.02, 0.03, 0.7830519816499151, 0.05], 2.448487275020626], [[1.0, 0.7320067664244609, 2.0, 3.0, 4.0, 5.0, 6.0, 7.0], 1.0], [[0.01, 0.02, 0.026252400299697134, 0.04, 0.05, 0.06], 0.06], [[0.0001, 0.0002, 0.0004], 0.06], [[1.0, 2.0, 3.0, 5.0, 6.0, 7.0], 0.01], [[0.0001, 0.0003, 0.0004, 0.0005, 0.0005], 0.34173466739005054], [[1.0, 2.0, 3.0, 4.0, 5.0, 7.0, 1.0], 0.1], [[0.01, 0.02, 0.03, 0.7320067664244609, 0.05, 0.06], 1.8768547940848141], [[6.0, 1.0, 2.0, 3.0, 5.0, 6.0, 6.628754599790156], 6.188660714217425e-08], [[0.01, 0.02, 0.03, 0.04, 0.05, 0.2, 0.06], 0.0005], [[0.01, 0.02, 0.03, 0.04, 0.05, 0.06, 0.05], 0.24915745094654063], [[0.01, 0.02, 0.03, 0.04, 0.05, 0.06, 0.05], 0.25], [[1.0, 2.0, 3.0036344781111617, 5.0, 6.0, 7.0], 0.01], [[0.0001, 0.0003, 0.0004, 0.0005, 0.0005], 0.5], [[0.0001, 0.0002, 0.0003, -0.18624228324769193, 0.0005, 0.0005], 0.34173466739005054], [[0.0001, 0.0003, 0.0003, 0.0004, 0.0005, 0.0005], 1e-05], [[0.01, 0.02, 0.03, 0.04, 0.05, 0.19855506282254765, 0.02], 0.0007771726708529467], [[0.0001, 0.0002, 0.0003, 10.360620825036374, 0.0004, 0.0005, 2.5], 0.0007771726708529467], [[0.0001, 0.0002, 0.0003, 0.0004, 0.0005, 0.0005], 0.24915745094654063], [[0.0, -1.0, 1.0, 2.0, 3.0, 4.0, 27.0, -3.5, 3.5, 2.0], 12.782206302056885], [[0.0001, 0.0002, 0.0003, 0.0004, 0.0005, 0.0005], 6.0], [[2.7988043965985527, 2.0, 3.0, 4.0, 5.0, 5.932113294381724, 7.0, 5.932113294381724], 1.1599131633343557e-07], [[1.0, 2.0, 3.0, 4.0, 5.0, 6.0, 7.0, 4.0, 5.0], 4.535382522457198], [[0.0, -1.0, 1.0, 2.0, 3.0, 4.0, 27.0, -3.5, 3.5, 2.0, -1.0], 12.782206302056885], [[0.39978460419272444, 0.0001, 0.0002, 0.0003069198215320421], 0.06], [[1.0, 0.06, 2.0, 3.0, 4.0, 5.0, 6.0, 7.0], 2.3835494666772767], [[0.01, 0.02, 0.03, 0.04, 0.05, 0.19855506282254765, 0.02, 0.04, 0.19855506282254765], 0.038336138077083304], [[0.01, 0.02, 0.04, 0.05], 0.0008183165574820457], [[0.01, 0.02, 0.03, 0.7320067664244609, 0.05, 0.06], 3.1], [[1.0, 2.0, 3.0, 4.0, 4.369218129512683, 6.0, 7.0, 4.0, 3.0, 3.0], 0.0002], [[0.0, -1.0, 1.0, 2.0, 3.0, 0.038336138077083304, 27.0, -3.5, 1.0, 2.0], 3.4789370733342704], [[0.01, 5.0, 0.02, 0.8648911287584085, 0.04, 0.05, 0.06], 0.9737832702287503], [[0.0, -1.0, 1.0, 0.25, 2.0, 3.0, 4.0, 26.131925753714437, 3.5, 2.0], 10.360620825036374], [[0.0, -1.0, 1.0, 2.0, 3.0, 4.0, 27.0, -3.5, 3.5, 2.0, -1.0], 6.551485608067754], [[0.0, -1.0, 1.0, 2.0, 3.0, 4.0, 27.0, -3.5, 3.5, 0.0], 0.027058224311019348], [[0.01, 0.02, 3.1, 0.04, -0.6675338170546472], 0.0008183165574820457], [[0.0001, 0.0003, 0.24915745094654063, 0.0004, 0.0005], 2.3835494666772767], [[1.0, 0.7320067664244609, 2.0, 3.0, 4.0, 5.0, 6.0, 7.0], 4.369218129512683], [[0.0, -1.0, 1.0, 3.0, 4.0, 27.0, -3.5, 3.5], 4.0], [[0.01, 0.02, 0.03, 0.04, 3.0036344781111617, 0.05, 0.06], 0.9413670070035324], [[0.0001, 0.0002, 0.0003, 10.360620825036374, 0.0004, 0.0005, 2.5, 0.0003, 10.360620825036374], 0.0007771726708529467], [[0.01, 0.02, 0.04, 0.05, 0.06, 0.06], 1.0], [[0.01, 0.02, 0.04, -0.5226764317934198, 0.06], 5.0], [[1.0, 2.0, 3.0, 4.0, 5.0, 6.0, 7.0, 8.963196087815385, 4.0, 5.0], 5.0], [[5.6316080215521163e-05, 0.0002, 0.0003, 10.360620825036374, 0.0004, 0.0005, 2.5, 0.0003, 10.360620825036374], 0.0007771726708529467], [[0.01, 0.02, 0.03, 0.05, -0.5687577928549921], 0.9737832702287503], [[0.01, 0.02, 0.03, 0.04, 0.05, 0.19855506282254765, 0.02, 0.04, 0.19855506282254765], 0.001], [[0.0001, 0.0002, -0.49573144003113767, 0.0003, 0.0004, 0.0005], 1e-05], [[0.0, -1.0, 1.0, 2.0, 3.0, 4.0, 27.0, -3.5, 3.5, 3.5], 0.5], [[0.0, -1.0, 1.0, 2.0, 3.0, 0.038336138077083304, 27.0, -3.5, 1.0, 2.0], 4.508041211533442], [[1.0, 2.0, 0.001, 4.0, 5.0, 6.0, 7.0, 4.0, 3.0], 4.895244991168478], [[1.0, 0.06, 3.0, 4.0, 5.0, 6.0, 7.0], 4.193063041333624], [[0.01, 0.02, 0.03, 0.04, 0.05, 0.19855506282254765, -0.16633421178266497], 2.9], [[0.01, 0.02, 0.03, 0.04, 0.05, 0.06, 0.06], 0.03], [[1.0, 2.0, 3.0, 4.0, 4.369218129512683, 6.0, 7.0, 4.0, 3.0, 3.0], 0.0001], [[0.0, -1.0, 0.03, 0.25, 2.0, 3.0, 4.0, 26.131925753714437, 3.5], 10.196572439827747], [[0.01, 0.02, 0.03, 0.04, 0.05, 0.19855506282254765, -0.15838574353129323, 0.02, 0.04, 0.19855506282254765], 0.8688009538391689], [[2.0, 4.0, 6.0, 8.0, 10.0], 0.03], [[0.30040935056104573, 1.5, 3.5, 4.5], 0.9404814236833526], [[0.01, 0.02, 0.8648911287584085, 0.04, 0.05, 0.06], 1e-05], [[0.01, 0.02, 0.03, 0.04, 0.05, 0.19855506282254765, 0.02, 0.04, 0.19855506282254765, 0.19855506282254765], 0.038336138077083304], [[0.01, 0.03, 0.04, 0.05, 0.06], 0.03651838361176652], [[0.0001, 0.0002, 0.0003, 0.0005, 2.5], 1.3415761364417404e-07], [[0.0, -1.0, 1.0, 2.0, 3.0, 4.0, 27.0, -3.5, 3.5], 0.6516471400282701], [[0.01, 0.02, 0.03, 0.04, 0.05, 0.05], 0.0007771726708529467], [[1.0, 2.0, 3.0, 4.0, 5.0, 6.0, 7.0, 4.0, 3.0, 3.0], 3.3079084352327763], [[0.0, -1.0, 1.0, 4.508041211533442, 3.0, 4.0, 27.0, -3.5, 3.5], 4.0], [[0.0001, -1.0, 0.0003, -0.18624228324769193, 0.0005, 0.0005], 0.34173466739005054], [[0.01, 0.02, 0.03, 0.04, 0.05, 0.06, 0.05], 0.3601068642901701], [[0.01, 0.02, 0.03, 0.04, 0.05], 0.7083071514757247], [[2.0, 5.297027774100714, 4.0, 6.0, 8.0, 10.0, 2.0], 0.4], [[0.01, 0.02, 0.03, 0.04, 0.03, 0.06], 0.3646604168795644], [[0.01, 0.02, 0.03, 0.04, 0.05, 0.2, 0.0001, 0.06], 0.0005], [[0.01, 0.02, 0.03, 0.04, 3.0036344781111617, 0.05, 0.06], 12.782206302056885], [[1.0, 2.0, 3.0, 4.0, 5.0, 6.0, 7.0, 8.963196087815385, 4.0, 5.0], 0.9404814236833526], [[0.0, -1.0, 1.0, 2.0, 3.0, 4.0, 26.894236797260636, -3.5, 3.5], 2.0], [[2.0, 3.0, 5.0, 5.932113294381724, 7.0, 5.932113294381724], 0.9737832702287503], [[0.027058224311019348, 0.0001, 0.0002, 0.0003, 0.0004, 0.0005, 0.0005], 0.05], [[1.0, 2.0, 3.0, 4.0, 4.369218129512683, 6.0, 7.0, 4.0, 3.0, 3.2337339304353026], 0.0001], [[0.0001, 0.0003, 0.24915745094654063, 0.0004, 0.0005], 2.1338227658168414], [[1.0, 2.0, 3.0, 5.0, 6.0, 7.0, 4.0, 3.0], 0.6516471400282701], [[0.0, -1.1790457336152256, 1.0, 3.0, 4.0, 27.0, -3.5, 3.5, -1.0], 4.0], [[1.0, 2.0, 3.0, 4.0, 5.0, 7.0, 4.0, 3.0, 3.0, 3.0], 4.35968221414135], [[0.0001, 0.0004, 0.7830519816499151, 0.0005, 0.0005], 0.5], [[0.01, 0.02, 0.04, 0.05, -3.5, 0.06, 0.06], 6.0], [[2.0, 3.0, 5.0, 5.932113294381724, 7.0, 5.932113294381724], 7.0], [[0.01, 0.02, 0.03, 0.04, 0.05, 0.19855506282254765, -0.15838574353129323, 0.02, 0.04, 0.19855506282254765], 1.3659999377482905], [[0.0001, 0.0004, 0.7830519816499151, 0.0005, 0.0005, 0.0005, 0.0004], 1.058764554720106], [[1.0, 2.0, 3.0, 4.0, 5.0, 6.0, 7.0, 4.0, 5.0, 4.0, 4.0], 3.75736209595818], [[0.01, 0.02, 0.03, 0.7830519816499151, 0.04, 0.05, 0.06], 6.628754599790156], [[0.01, 0.3646604168795644, 0.02, 0.04, 0.05, 0.06], 5.0], [[0.01, 0.02, 0.03, 0.04, 0.05, 0.19855506282254765, 0.02, 0.05], 0.6596019358748902], [[2.278701849044938, 2.0, 3.0, 5.0, 5.932113294381724, 7.0, 5.932113294381724], 0.9737832702287503], [[2.7988043965985527, 2.0, 3.0, 4.0, 5.0, 5.932113294381724, 7.0, 5.932113294381724], 0.4721319649371413], [[0.01, 0.02, 0.03, 0.05, -0.5687577928549921, 0.01], 0.9737832702287503], [[0.01, 0.02, 0.03, 0.05, -0.1725130799260981, 0.01], 0.6998622328872788], [[0.01, 0.02, 3.1, 0.04, -0.6675338170546472], 0.5], [[0.01, 0.02, 0.03, 0.04, 0.05, 0.06, 0.01], 0.9236125030833611], [[0.0, -1.0, 1.0, 2.0, 0.5, 3.0, 4.0, 27.0, -3.5, 3.5], 0.7083071514757247], [[0.0001, 0.0002, 0.0003, 10.360620825036374, 0.0004, 0.0005, 2.5, 0.0003, 10.360620825036374], 0.8425562127638513], [[1.0, 2.0, 3.0, 4.0, 5.0, 6.0, 7.0, 4.0, 3.0], 27.0], [[0.0001, 0.0002, -0.49573144003113767, 0.0003, 0.0004, 0.0005], 0.4721319649371413], [[2.0, 3.0, 5.0, 5.932113294381724, 7.0, 7.480929430338095, 5.932113294381724], 0.9737832702287503], [[1.0, 4.320267231190421, 2.0, 3.0, 4.0, 5.0, 6.0, 7.0, 8.963196087815385, 4.0, 5.0], 5.0], [[0.01, 0.02, 0.0, 3.1, 0.04, -0.6675338170546472], 0.4489610242046808], [[1.0, 2.0, 2.9779710358778804, 5.0, 6.0, 7.0, 4.0, 3.0], 0.15194559879904446], [[0.5, 1.5, -0.6675338170546472, 3.5, 6.188660714217425e-08], 0.05], [[0.01, 0.02, 0.03, 0.04, 3.0036344781111617, 0.05, 0.06], 6.188660714217425e-08], [[0.01, 0.02, 0.0005, 3.1, 0.04, -0.6675338170546472], 0.5], [[0.0001, 0.0002, -0.27655008252474683, 0.0003, 0.0004, 0.0005], 0.4721319649371413], [[0.0001, 0.0004, 0.7830519816499151, 0.0005, 1.5, 0.0005, 0.0005, 0.0004, 0.0005], 1.058764554720106], [[1.0, 2.0, 3.0, 4.0, 5.0, 6.0, 7.0], 1.4543394246565962], [[0.01, 0.02, 0.04, 0.05, 0.06], 1e-05], [[0.01, 0.9236125030833611, 0.02, 0.03, 0.04, 0.05, 0.19855506282254765, 0.02], 0.00046679034231423134], [[2.0, 3.0, 5.0, 5.932113294381724, 7.0, 5.932113294381724], 4.35968221414135], [[0.01, 0.03, 0.04, 0.06], 0.9236125030833611], [[0.01, 0.02, 0.03, 0.04, 0.05, 0.19855506282254765, 0.02, 0.04, 0.19855506282254765], 0.8688009538391689], [[1.0, 2.0, 3.0, 4.0, 5.0, -0.15838574353129323, 6.0, 7.0], 1.6347671280320832], [[0.01, 0.02, 0.03, 0.04, 0.19855506282254765, 0.02, 0.02], 0.0007771726708529467], [[2.0, 4.0, 6.60147586581634, 8.0, 10.0], 1.058764554720106], [[2.546056560331472, 1.5, 2.5, 3.5, 4.5], 0.8425562127638513], [[0.01, 0.02, 0.03, 0.04, 0.05, 0.04], 0.0007771726708529467], [[0.01, 0.02, 0.03, 0.04, 0.05, 0.19855506282254765, 0.02], 2.2853262845343103], [[0.0, -1.0, 1.0, 2.0, 3.0, 4.0, 0.0003069198215320421, -3.5, 3.5], 0.03651838361176652], [[0.01, 0.0004849742100830799, 0.04, 0.05, 0.06], 1e-05], [[0.01, 0.02, 0.03, 0.04, 0.05, 0.19855506282254765, 0.02, 0.04, 0.19855506282254765], 0.0006401492478098946], [[0.5, 0.7830519816499151, 1.5, 2.5, 3.5, 4.5], 2.546056560331472], [[0.0, -1.0, 1.0, 2.0, 3.0, 4.0, 27.0, -3.5, 3.5, 1.0], 4.0], [[2.9, 0.0002, 0.0004], 0.06], [[0.0001, 1.5, 0.0004, 0.0005], 1e-05], [[0.0, -1.0, 1.0, 2.0, 3.0, 4.0, 27.0, -3.5, 3.5, 2.0], 17.62685224168221], [[0.01, 0.02, 0.03, 0.04, 0.05, 0.19855506282254765, -0.16633421178266497], 26.894236797260636], [[0.0001, 0.0002, -0.49573144003113767, 0.0003, 0.0004], 0.0008183165574820457], [[6.0, 1.0, 2.0, 3.0, 5.0, 6.0, 6.628754599790156], 6.60147586581634], [[0.5, 1.5, 2.5, 3.5, 4.5], 2.1338227658168414], [[1.0, 2.0, 0.001, 4.0, 5.0, 6.0, 7.0, 4.0, 3.0, 4.0], 4.895244991168478], [[2.0, 3.0, 5.0, 5.932113294381724, 7.0, 5.932113294381724, 5.932113294381724], 7.0], [[0.0, -1.0, 1.0, 0.25, 2.0, 3.0, 4.0, 27.0, -3.5, 3.5], 4.320267231190421], [[0.0001, 0.0002, 0.0003, 0.0004, 0.0005, 2.5], 10.196572439827747], [[1.0, 2.0, 2.9, 3.0, 3.1, 4.0, 5.0, 6.0, 4.0], 0.2], [[1.0, 0.06, 3.0, 4.0, 6.0, 7.0, 1.0], 4.0], [[0.01, -0.2596313061937332, 0.03, 0.7320067664244609, 0.05, 0.06], 0.01], [[0.01, 0.02, 0.0129477300365736, 0.8648911287584085, 0.028469429733457938, 8.295393364433108e-05, 0.05, 0.06, 0.07357941163309117], 2.448487275020626], [[0.0, -1.0, 2.293054850153645, 1.0, 2.0, 6.551485608067754, 0.5, 3.0, 4.0, 27.0, -3.5, 3.5], 0.5067916393688855], [[0.01, 0.02, 0.03, 0.04, 0.05, 0.05], 0.0129477300365736], [[0.01, 0.03, 0.04], 0.001355158686300474], [[0.0, -1.0, 1.0, 2.0, 3.0, 4.0, 27.0, 0.01, -3.5, 3.5, 2.0, -1.0], 12.782206302056885], [[2.7988043965985527, 1.0, 2.0, 3.0, 4.0, 6.0, 7.0], 6.188660714217425e-08], [[0.01, 0.02, 0.03, 0.04, 0.05], 0.0007523447834387034], [[5.6316080215521163e-05, 0.0002, 0.0003, 0.000217866811863406, 10.360620825036374, 0.0004, 0.0005, 2.5, 0.0003, 10.360620825036374], 0.0007771726708529467], [[0.0001, 0.0002, 0.0003, 0.0004, 0.0005, 8.963196087815385, 2.5, 0.0001], 0.0007771726708529467], [[1.0, 2.0, 3.0, 4.0, 5.0, -0.15838574353129323, 6.0, 7.0], 1.5873257099119467], [[1.0, 0.5976080106510826, 3.0, 4.0, 0.0003, 5.0, 2.3835494666772767, 6.0, 7.0, 4.0], 10.576387435085449], [[0.01, 0.03, 0.04, 0.05, 0.06], 0.24915745094654063], [[2.7988043965985527, 2.0, 3.0, 4.0, 5.0, 5.932113294381724, 7.0, 5.932113294381724], 2.9], [[0.0001, 0.0002, 0.0003, 0.0004, 0.0005, 0.0005], 5.217263160604513e-06], [[0.0001, 0.0002, 0.0003, 0.8319124631222921, 0.0004, 0.0005, 8.963196087815385, 2.5, 0.0001], 0.0007771726708529467], [[0.01, 0.03, 0.04, 0.06, 0.01], 0.9236125030833611], [[1.0, 4.5, 2.0, 3.0, 4.0, 10.0, 6.0, 7.0, 8.963196087815385, 4.0, 5.0], 0.9404814236833526], [[2.546056560331472, 0.5, 1.5, 2.5, 3.5, 4.5], 0.8670068029182352], [[0.0, 4.862049768627548, -1.0, 1.0, 2.0, 3.0, 4.0, 27.0, -3.5, 3.5, 3.5, 4.862049768627548], 0.5], [[0.01, 0.02, 0.03, 0.04, 0.05, 0.06, 0.05], 0.6700689435351999], [[1.0, 2.0, 0.001, 4.0, 5.0, 6.0, 7.0, 4.0, 3.0], 4.19635402796494], [[1.0, 2.0, 2.9779710358778804, 5.0, 6.0, 7.0, 4.0], 0.15194559879904446], [[0.0001, 0.0002, 0.0003, 0.8319124631222921, 0.0004, 2.293054850153645, 0.0005, 2.5, 0.0001], 0.0007771726708529467], [[0.01, 0.02, 0.03, 0.04, 0.05, 0.05], 0.0007523447834387034], [[0.0, -1.0, 2.293054850153645, 1.0, 2.0, 6.551485608067754, 0.5, 3.0, 4.0, 27.0, -3.5, 3.5], 0.15962354277733998], [[2.0, 3.0, 5.0, 5.932113294381724, 7.0, 5.932113294381724], 2.9], [[1.0, 2.0, 3.0, 4.0, 4.369218129512683, 6.0, 7.0, 4.0, 3.0, 3.0], 0.1], [[0.01, 0.02, 0.03, 0.04, 3.0036344781111617, 0.05, -0.15838574353129323, 0.06], 4.235601995851823e-08], [[0.0001, 0.0002, 0.0003, 0.0004, 0.0005, 0.0005], 0.1884230532937705], [[0.0001, 0.0003, 0.0003, 0.0004, 0.0005, 0.0005, 0.0001], 1e-05], [[0.0001, 0.0002, 0.0003, 0.0004, 0.0005, 0.0005], 4.19635402796494], [[1.0, 2.0, 3.0, 4.0, 5.0, 6.0, 7.0, 8.963196087815385, 4.0, 5.0, 5.0], 0.9404814236833526], [[0.6509268804873074, 0.01, 0.02, 0.03, 0.7320067664244609, 0.05, 0.06], 0.9236125030833611], [[1.0, 0.06, 3.0, 4.0, 5.0, 6.0, 0.4, 7.0, 4.0], 4.193063041333624], [[0.01, 0.02, 0.03, 0.04, 0.05, 0.19855506282254765, 0.029259605557749088], 2.2853262845343103], [[0.027058224311019348, 0.0001, 0.0002, 0.0003, 0.0006401492478098946, 0.0005, 0.0005], 0.05], [[0.6700689435351999, 1.0, 2.0, 3.0, 4.0, 5.0, 5.2880862432816444, 7.0, 8.963196087815385, 4.0, 5.0, 5.0], 0.9404814236833526], [[0.0, 4.862049768627548, -1.0, 1.0, 2.0, 3.0, 4.0, 27.0, -3.5, 3.5, 3.5], 0.5], [[0.48528650783474536, 0.0001394108335292097, 0.0004, 0.7830519816499151, 0.0005, 0.0005], 0.5], [[2.546056560331472, 0.5, 1.5, 2.5, 3.5, 4.5, 2.546056560331472], 0.8670068029182352], [[0.01, 0.02, 0.03, 0.04, 0.05], 3.0036344781111617], [[0.01, 0.02, 0.04, 0.05], 0.6596019358748902], [[12.782206302056885, 3.0, 5.0, 5.932113294381724, 7.0, 5.932113294381724], 6.197009991875982], [[1.0, 2.0, 3.0, 4.0, 4.369218129512683, 6.0, 7.0, 4.0, 3.0, 3.2337339304353026, 6.0], 0.0001], [[0.00021046356442728928, 0.0001, 0.0002, -0.49573144003113767, 0.0003, 0.0004], 0.0008183165574820457], [[1.0, 2.0, 2.016188570538227, 3.0, 5.0, 6.0, 7.0], 0.008289598692317044], [[2.0, 4.0, 6.0, 8.0, 6.188660714217425e-08], 0.4], [[0.0001, 0.0002, 0.0003, 0.15962354277733998, 0.0005], 0.15194559879904446], [[2.7988043965985527, 2.0, 3.0, 4.0, 5.0, 5.932113294381724, 4.554151651658612, 7.0, 5.932113294381724], 0.27170830572348736], [[0.0, -1.0, 1.0, 2.0, 3.0, 4.0, 27.0, -3.5, 3.5, 3.5, 0.0], 0.5], [[0.01, 0.02, 0.03, 0.05, -0.5687577928549921, 0.01], 1.025567025768271], [[0.01, 0.02, 0.03, 0.04, 0.19855506282254765, 0.02], 0.000548796898517503], [[0.0, -1.0, 1.0, 2.0, 3.0, 4.0, 27.0, -3.5, 3.5, 2.0, 2.0], 10.0], [[0.0, -1.0, 1.0, 2.0, 3.0, 4.0, 27.0, -3.5, 3.5], 0.5377076279022561], [[1.0, 2.0, 4.0, 5.0, 6.0, 7.0, 4.0, 3.0, 3.0], 3.4789370733342704], [[1.0, 2.0, 0.5976080106510826, 3.0, 4.0, 5.0, 2.3835494666772767, 6.0, 7.0, 4.0], 4.605516620713152], [[0.0001, 0.0002, 0.0003, 0.0004, 0.0005], 0.17466430323995194], [[1.0, 4.5, 2.0, 3.0, 4.0, 10.0, 6.0, 7.0, 8.963196087815385, 4.0, 5.0, 6.0], 0.00021046356442728928], [[0.0, -1.0, 1.0, 2.0, 3.0, 4.0, 27.0, -3.5, 3.5, 2.0, -1.0], 10.375423940437729], [[0.0001, 0.0002, 0.0004, 0.0005, 0.0005], 1.258526307128289e-05], [[2.0, 3.0, 5.0, 5.932113294381724, 7.0, 5.932113294381724, 5.932113294381724, 5.932113294381724], 7.0], [[0.01, 4.862049768627548, 0.03, 0.04, 0.05, 0.19855506282254765, 0.02, 0.04, 0.19855506282254765], 0.7690733466089933], [[0.01, 0.02, 0.03, 0.04, 0.05, 0.03], 0.0007523447834387034], [[0.0, -1.0, 1.0, 2.0, 3.0, 4.0, 27.0, -3.5, 3.5, -1.0], 0.5377076279022561], [[2.7988043965985527, 2.0, 3.0, 4.0, 5.0, 5.932113294381724, 7.0, 5.932113294381724, 7.0], 1e-07], [[0.0001, 0.0003, 0.0003, 0.0004, 0.0005, 0.0005, 0.0001, 0.0003], 1e-05], [[0.01, 0.02, 0.025810774039815212, 0.04, 0.05, 0.06], 3.3079084352327763], [[0.0, -1.0, 1.0, 2.0, 3.426546370607161, 3.0, 4.0, 27.0, -3.5, 3.5, 3.5], 0.5], [[1.0, 2.0, 3.0, 4.0, 5.0, 6.0, 7.0, 4.0, 5.0, 4.0, 4.0, 7.0], 5.361067326145201], [[0.01, 0.02, 0.04, 0.05, 0.06], 0.24915745094654063], [[0.0001, 0.0002, 0.0003, 0.0004, 0.0005, 0.0005], 17.62685224168221], [[4.709144679909934e-05, 0.0002, 0.0003, 0.000217866811863406, 10.360620825036374, 0.0004, 2.5, 0.0003, 10.360620825036374], 0.0007771726708529467], [[5.6316080215521163e-05, 0.0002, 0.0003, 0.000217866811863406, 10.360620825036374, 0.0004, 0.0005, 2.5, 0.0003, 0.0007771726708529467, 10.360620825036374], 0.0007771726708529467], [[4.554151651658612, 0.02, 0.03, 0.04, 0.05], 3.0036344781111617], [[0.027058224311019348, 0.0001, 0.0002, 0.0003, 0.0006401492478098946, 0.0005, 0.0005, 0.0005], 0.05], [[0.01, 0.8688009538391689, 0.04, 0.05, 0.06, 0.06], 1.0], [[0.0001, 0.0002, 0.0003, 0.0004, 0.0005], 5.932113294381724], [[0.01, 0.02, 0.03, 0.04, 0.05, 0.19855506282254765, 0.02, 0.04, 0.19855506282254765, 0.01], 0.8688009538391689], [[0.0001, 0.0002, 0.0004, 0.0005, 0.0007771726708529467, 0.0005], 0.0129477300365736], [[5.361067326145201, 0.0002, 0.0003, 10.360620825036374, 0.0004, 0.0005, 2.5], 1.3415761364417404e-07], [[0.01, 0.02, 0.03, 0.04, 0.05, 0.19855506282254765, 0.02], 4.193063041333624], [[0.9737832702287503, -1.0, 1.0, 2.0, 3.0, 4.0, 27.0, -3.5, 3.5, 2.0, -1.0], 10.375423940437729], [[0.0, -1.0, -0.09112009829948176, 1.0, 2.0, 3.0, 4.0, 27.0, -3.5, 3.5, 2.0], 3.4789370733342704], [[0.0, -1.0, 0.03, 0.25, 2.0, 3.0, 4.0, 26.131925753714437, 3.5], 0.8648911287584085], [[0.0, -1.0, 1.0, 2.0, 3.0, 4.0, 0.0004, 27.0, 0.01, -3.5, 3.5, 2.0, -1.0, -1.0], 12.782206302056885], [[0.0001, 0.0002, 0.0003, 0.0004, 0.0005, 8.963196087815385, 2.5], 0.0007771726708529467], [[0.0001, 0.0003, 0.0003, 0.0004, 0.0005, 0.0005, 0.0001, 0.0003], 1.4084871604544225e-05], [[0.01, 0.02, 0.03, 0.04, 0.03, 0.055920116891141534, 0.06], 0.00046679034231423134], [[0.0, -1.0, 1.0, 2.0, 3.0, 4.0, 27.0, -3.5, 3.5], 4.605516620713152], [[2.546056560331472, 0.5, 1.5, 2.5, 0.07357941163309117, 3.5, 4.5, 2.546056560331472], 0.8670068029182352], [[0.01, 0.02, 0.04, 0.05, 0.06, 0.06, 0.06], 1.0], [[0.5, 1.5, -0.6675338170546472, 3.5, 6.188660714217425e-08, 3.5], 0.05], [[0.9429851565684986, 0.02, 0.05, 0.06], 5.0], [[2.0, 3.0, 5.0, 5.932113294381724, 7.0, 5.932113294381724], 1.5], [[1.0, 0.5976080106510826, 3.0, 4.0, 0.0003, 5.0, 2.3835494666772767, 6.0, 7.0, 4.0], 2.016188570538227], [[0.01, 0.02, 0.03, 0.04, 0.05, 0.06], 1.1237222218893332], [[2.0, 5.297027774100714, 4.0, 6.0, 10.0], 0.4], [[2.7988043965985527, 2.0, 3.0, 5.932113294381724, 7.0, 5.932113294381724, 2.7988043965985527], 2.9], [[2.7988043965985527, 2.0, 3.0, 4.0, 5.0, 5.932113294381724, 7.0, 5.932113294381724], 0.03], [[0.01, 0.02, 0.03, 0.04, 0.05, 0.19855506282254765, 0.02, 0.04, 0.19855506282254765], 1.3659999377482905], [[0.0, -1.0, 1.0, 2.0, 3.0, 4.0, 0.0004, 27.0, 0.01, -3.5, 2.0, -1.0, -1.0], 12.782206302056885], [[0.027058224311019348, 0.0001, 0.0002, 0.0003, 0.0004, 0.0005, 0.0005, 0.0005], 0.05], [[0.01, 0.02, 0.03, 0.04, 0.05, 0.2, 0.0001, 0.06], 0.0006477611300912572], [[1.0, 2.0, 4.0, 5.0, 6.0, 7.0, 4.0, 3.0], 2.9704822295205475], [[1.0, 2.0, 4.0, 5.0, 6.0, 7.0, 4.0, 3.0, 3.0], 3.4247215250962464], [[1.0, 2.0, 3.0, 4.0, 5.0, 6.0, 7.0, 8.963196087815385, 4.0, 5.0, 5.0, 8.963196087815385], 0.9404814236833526], [[0.01, 0.02, 0.8648911287584085, 0.04, 0.9109419404486887, 0.05, 0.06], 1.6936908783494355], [[0.0, -1.0, 1.0, 2.0, 3.0, 4.0, -3.5, 3.5], 2.188339151118696], [[2.546056560331472, 0.5, 1.5, 2.5, 3.5, 4.5, 2.546056560331472], 0.6099166929571569], [[6.628754599790156, 0.02, 0.03, 0.04, 0.05], 0.0008183165574820457], [[0.0, -1.0, 1.0, 2.0, 4.0, 26.894236797260636, -3.5, 3.5], 2.0], [[2.0, 3.0, 5.0, 5.932113294381724, 7.0, 5.932113294381724], 0.8648911287584085], [[0.0, -1.0, 1.0, 2.0, 3.0, 4.0, 0.0003069198215320421, -3.5, 3.5], 0.8425562127638513], [[0.01, 0.02, 0.03, 0.04, 0.05, 0.2, 0.06], 0.0003117156621997555], [[0.01, 3.5, 0.02, 0.03, 0.022911737757520884, 0.05], 4.859769869019803], [[0.01, 0.02, 0.03, 0.04], 0.0007771726708529467], [[0.01, -0.6791689619001537, 0.02, 0.03, 0.04, 0.05, 0.06], 0.06], [[0.0001, 0.0003, 0.0004, 0.0005, 0.0005], 4.5], [[0.0001, 0.0002, 0.0003, 10.360620825036374, 0.0004, 0.0005, 2.5, 0.0003, 10.360620825036374], 0.4], [[0.01, 0.02, 0.03, 0.7830519816499151, 0.04, 0.05, 0.06, 0.05, 0.01], 6.628754599790156], [[0.01, 0.02, 0.03, 0.04, 0.05, 0.7851321679403163, 0.05], 0.0007771726708529467], [[0.01, 0.02, 0.03, 0.04, 0.05, 0.05061822472212914, 0.06, 0.01], 0.9236125030833611], [[0.01, 0.03, 0.04], 2.293054850153645], [[1.0, 2.0, 3.0, 4.0, 5.0, 6.0, 7.0, 4.0, 3.0, 3.0, 7.0], 3.4789370733342704], [[1.0, 2.0, 3.0, 4.0, 5.0, 3.1, 6.0, 7.0], 1.0], [[1.0, 2.0, 3.0, 4.0, 5.0, 3.1, 6.0, 7.0], 1.0784243887241944], [[0.01, 0.02, 0.03, 0.04, 0.05, 0.06], 5.2880862432816444], [[0.01, 0.02, 3.1, 0.04, 0.05], 0.055920116891141534], [[5.8932460669743824e-05, 0.0002, 0.0003, 0.0004, 0.0005, 0.0005], 0.1884230532937705], [[0.01, 0.02, 0.03, 0.04, 2.121475900327617, 0.05, 0.06], 12.782206302056885], [[7.327698262552655e-05, 0.24915745094654063, -0.49573144003113767, 0.0003, 0.0004], 0.0008183165574820457], [[1.0, 0.06, 3.0, 4.0, 5.0, 7.0], 4.193063041333624], [[0.01, 0.02, 0.8648911287584085, 0.04, 0.05, 0.7851321679403163, 0.06, 0.8648911287584085], 0.9737832702287503], [[1.0, 3.4789370733342704, 2.0, 3.0, 4.0, 5.0, 3.1, 6.0, 7.0], 0.0129477300365736], [[0.01, 0.02, 0.03, 0.04, 0.05, 0.04], 0.0005172209537761298], [[0.0001, 0.0002, 0.0003, 0.0004, 0.0005], 0.10215110330888037], [[0.0, -1.0, 1.0, 2.0, 3.0, 4.0, 27.0, -3.5, 3.5], 3.80230126436164], [[2.0, 5.297027774100714, 4.0, 6.0, 8.0, 10.0, 2.0], 0.4194505759272462], [[0.8688009538391689, 0.0003, 0.24915745094654063, 0.0004, 0.0005], 2.1338227658168414], [[0.0001, 0.0003, 0.0003, 0.0004, 0.0005, 0.0005, 0.0001, 0.0003, 0.0003], 1.4084871604544225e-05], [[0.0, -1.0, 1.0, 2.0, 3.0, 4.0, 27.0, -3.5, 3.5], 0.3993502229658934], [[1.0, 2.0, 3.0, 4.0, 4.369218129512683, 3.610794371373272, 6.0, 7.0, 0.8688009538391689, 3.0, 3.2337339304353026, 6.0], 4.554151651658612], [[1.0, 2.0, 3.0, 4.0, 4.369218129512683, 6.0, 7.0, 4.0, 3.0, 3.0, 4.0], 3.4789370733342704], [[0.0, -1.0, 1.0, 2.0, 0.5, 3.0, 4.0, 27.0, -3.5, 3.5], 0.9164049075273353], [[0.01, 0.02, 0.0, 3.1, 0.04, 4.320267231190421], 0.4489610242046808], [[2.9, 0.0002, 0.0004], 0.06551718965331986], [[0.0001, 0.0002, 0.0003, 0.0004, 3.0, 0.0003], 5.932113294381724], [[0.027058224311019348, 0.0001, 0.0002, 0.0003, 4.320267231190421, 0.0004, 0.0005, 0.0005, 0.0004], 0.05], [[0.0001, 0.0002, 0.0003, 0.0004, 0.9236125030833611, 0.0005, 0.0005], 0.34173466739005054], [[0.01, 0.03, 0.04, 0.05, 0.06], 1.9255680498201777], [[1.0, 2.0, 3.0, 4.0, 5.0, 3.1, 6.0, 7.0], 0.7923707008984809], [[0.01, 0.03, 0.04, 0.05, 0.06, 0.04, 0.01], 0.24915745094654063], [[1.0, 2.0, 3.0, 4.0, 5.0, 7.0, 4.831203365732389, 1.0], 0.1], [[0.01, 0.03, 0.04, 0.05], 0.7083071514757247], [[0.0, -1.0, 1.0, 2.0, 3.0, 4.0, 27.0, -3.5, 3.5], 0.6732530490080072], [[5.6316080215521163e-05, 0.0002, 0.0003, 10.360620825036374, 0.0004, 0.0005, 2.5, 0.0003, 10.360620825036374], 0.000864368171540714], [[0.0, -1.0, 1.0, 2.0, 3.0, 4.0, 27.0, -3.5, 3.5, 4.0], 3.80230126436164], [[0.0001, 0.0002, 0.0003, 0.0004, 0.0005], 0.2366548975305903], [[0.01, 0.02, 0.03, 0.04, 0.05, 0.06], 3.80230126436164], [[2.546056560331472, 1.5, 2.5, 3.5, 4.5], 0.9748345950231323], [[0.0001, 4.0, 0.0004, 0.0005, 0.0005], 1.258526307128289e-05], [[0.5, 1.5, 0.0004849742100830799, 2.5, 3.5, 4.5], 0.05766460375946958], [[1.0, 2.0, 3.0, 4.0, 4.369218129512683, 6.0, 7.0, 4.0, 0.7690733466089933, 3.0], 10.360620825036374], [[1.0, 3.4789370733342704, 2.0, 3.0, 4.0, 5.0, 3.1, 6.0, 7.0], 0.4721319649371413], [[4.554151651658612, 0.02, 0.03, 0.04, 0.05], 3.307663458004549], [[0.0, -1.0, 1.0, 2.0, 3.0, 4.0, 27.0, -3.5, 3.5], 0.5803213720025598], [[0.0, -1.0, 1.0, 2.0, 3.0, 4.0, 27.0, -3.5, 3.5], 3.75736209595818], [[0.5, 0.7830519816499151, 1.5, 2.5, 3.5, 4.5], 2.9252594886571455], [[1.0, 2.0, 3.0, 4.0, 5.0, 7.0, 4.0, 3.0, 3.0, 3.0, 4.0], 4.35968221414135], [[2.0, 3.0, 0.2366548975305903, 5.932113294381724, 7.0, 5.932113294381724], 3.6353279062810095], [[0.0001, 0.0003, 0.0004, 0.0005, 0.0005, 0.0001, 0.0003, 0.0003, 0.0003], 1.4084871604544225e-05], [[0.0001, 0.0002, -0.49573144003113767, 0.0003, 0.0004], 0.008289598692317044], [[0.01, 0.02, 0.03, 0.04, 3.0036344781111617, 0.05, -0.15838574353129323, 0.06], 2.8139825387707576e-08], [[6.0, 1.0, 2.0, 3.0, 5.0, 6.0], 8.427615438201482], [[0.0001, 0.0002, 0.0003, 0.9236125030833611, 0.0005], 0.10215110330888037]]\n",
      "    results = [True, False, True, False, True, True, False, False, False, False, False, False, False, False, False, True, False, True, False, True, True, True, True, True, False, True, False, True, False, False, False, True, True, False, True, False, True, False, False, False, True, True, False, True, True, True, True, True, True, True, False, True, False, True, True, True, True, True, True, True, False, True, True, True, True, False, True, True, False, True, False, True, True, True, False, True, True, True, True, True, True, True, True, True, True, True, True, True, True, True, True, False, True, True, True, True, True, False, True, True, True, True, True, True, True, True, True, False, False, False, False, False, False, False, False, False, True, True, False, False, False, True, False, False, True, False, False, True, True, True, True, True, False, False, False, True, True, True, True, False, True, False, False, True, False, False, True, True, False, True, True, False, False, True, True, False, False, True, False, True, True, True, False, True, False, True, True, True, False, True, True, True, True, True, True, False, True, True, False, True, True, True, True, True, True, True, False, True, True, True, True, True, True, False, True, True, True, True, False, True, False, True, True, True, True, True, True, False, True, True, True, True, True, True, True, False, True, True, True, True, True, True, True, True, True, True, True, True, True, True, True, False, False, False, True, True, True, True, True, True, True, False, False, True, True, True, True, True, True, True, True, True, False, False, True, True, False, True, True, True, True, True, True, True, True, True, True, True, False, True, True, True, True, False, True, True, True, True, True, True, True, True, True, True, True, False, False, True, True, True, True, True, True, True, True, True, False, True, True, True, True, True, True, True, True, True, True, True, False, False, True, False, True, True, False, True, True, True, True, True, True, True, True, True, True, True, True, False, True, True, True, False, False, True, False, True, True, False, True, True, True, True, True, True, True, True, True, True, False, True, False, True, True, False, True, True, True, True, False, True, True, False, False, True, False, True, True, True, True, True, True, False, True, True, False, False, True, True, False, False, False, False, True, True, True, True, True, True, True, True, True, True, True, True, False, False, True, True, True, True, True, True, True, True, True, True, True, True, False, True, True, True, True, True, True, True, True, True, True, False, True, True, True, True, True, True, True, False, True, True, True, True, True, True, True, True, True, True, True, True, True, False, True, True, True, True, True, False, True, True, True, True, True, True, True, True, True, True, True, True, True, False, False, False, True, True, True, False, True, True, True, True, True, True, True, True, True, False, True, True, True, True, True, True, True, True, True, True, True, True, True, True, True, True, True, True, True, False, True, True, False, True, False, True, True, False, True, False, True, True, True, True, True, True, True, True, True, True, True, False, True, False, False, True, True, True, True, True, True, False, True, True, True, True, True, True, True, False, True, True, True, True, True, True, True, False, True, True, True, False, True, True, True, False, True, True, True, False, True, True, True, True, False, True, False, False, True, True, True, True, True, True, True, False, True, False, True, True, True, True, True, True, True, True, False, True, True, True, True, True, True, True, True, False, True, True, True, True, True, True, True, True, False, True, True, True, True, True, True, True, True, True, True, True, True, True, True, False, False, False, True, True, False, False, True, True, True, False, True, True, True, True, False, True, False, False, True, False, True, True, False, False, True, True, True, False, True, False, True, True, True, True, True, True, True, True, False, True, True, True, False, True, False, True, True, True, True, True, True, True, True, True, True, True, False, True, True, True, False, True, True, True, True, True, False, True, True, True, True, True, True, True, True, False, True, True, True, True, False, True, True, False, True, True, True, True, True, True, True, True, True, True, True, True, True, True, False, True, True, True, True, True, True, True, False, True, True, True, True, True, True, True, True, True, True, True, False, True, True, True, True, True, True, True, True, True, False, False, False, True, True, False, True, True, True, True, True, True, True, True, True, False, True, True, True, True, True, True, True, True, True, True, True, True, True, True, True, True, True, True, True, True, True, True, True, True, True, True, True, True, True, True, True, True, True, False, False, True, True, True, True, False, True, True, True, True, True, True, False, True, True, True, True, False, True, True, True, True, False, True, True, True, True, True, True, True, True, True, True, True, True, True, True, True, False, True, False, False, True, True, True, True, True, True, True, True, True, True, True, True, True, True, False, True, True, False, True, True, False, True, True, True, True, True, True, True, True, True, True, True, True, True, True, True, True, True, False, False, True, True, True, True, True, True, True, True, True, True, True, True, True, True, True, True, True, True, True, True, True, True, True, True, True, True, True, True, True, True, True, True, False, True, True, True, True, True, True, True, True, True, True, True, True, True, True, True, True, False, True, True, True, True, True, False, True, True, True, True, True, True, False, True, True, True, False, True, False, True, True, True, True, True, True, True, True, True, True, True, True, True, True, True, True, True, False, True, True, True, True, True, True, False, True, True, True, True, True, True, True, True, True, True, True, True, True, True, True, True, True, True, True, True, False, True, True, True, True, True, True, True, True, True, True, False, True, True]\n",
      "    for i, (inp, exp) in enumerate(zip(inputs, results)):\n",
      "        assertion(candidate(*inp), exp, 0)\n"
     ]
    }
   ],
   "source": [
    "print(ep['test']['test'][0])"
   ],
   "metadata": {
    "collapsed": false,
    "ExecuteTime": {
     "end_time": "2024-03-27T15:14:09.710469Z",
     "start_time": "2024-03-27T15:14:09.704407Z"
    }
   },
   "id": "f1dd169910e631a3",
   "execution_count": 47
  },
  {
   "cell_type": "code",
   "outputs": [
    {
     "name": "stderr",
     "output_type": "stream",
     "text": [
      "/Users/mgb/Library/Caches/pypoetry/virtualenvs/tdg-fcBJxN86-py3.11/lib/python3.11/site-packages/datasets/load.py:1461: FutureWarning: The repository for FloatAI/HumanEval-XL contains custom code which must be executed to correctly load the dataset. You can inspect the repository content at https://hf.co/datasets/FloatAI/HumanEval-XL\n",
      "You can avoid this message in future by passing the argument `trust_remote_code=True`.\n",
      "Passing `trust_remote_code=True` will be mandatory to load this dataset from the next major release of `datasets`.\n",
      "  warnings.warn(\n"
     ]
    },
    {
     "data": {
      "text/plain": "Downloading builder script:   0%|          | 0.00/3.15k [00:00<?, ?B/s]",
      "application/vnd.jupyter.widget-view+json": {
       "version_major": 2,
       "version_minor": 0,
       "model_id": "69af2599947542f6ab5c3aa1a3d5e9e1"
      }
     },
     "metadata": {},
     "output_type": "display_data"
    },
    {
     "data": {
      "text/plain": "Downloading readme:   0%|          | 0.00/5.90k [00:00<?, ?B/s]",
      "application/vnd.jupyter.widget-view+json": {
       "version_major": 2,
       "version_minor": 0,
       "model_id": "f0de683fb4b841e5ae5bd71fc0cefd13"
      }
     },
     "metadata": {},
     "output_type": "display_data"
    },
    {
     "data": {
      "text/plain": "Downloading data:   0%|          | 0.00/24.2k [00:00<?, ?B/s]",
      "application/vnd.jupyter.widget-view+json": {
       "version_major": 2,
       "version_minor": 0,
       "model_id": "a742ea54120249fe91a9d5496edabb8e"
      }
     },
     "metadata": {},
     "output_type": "display_data"
    },
    {
     "data": {
      "text/plain": "Downloading data:   0%|          | 0.00/27.0k [00:00<?, ?B/s]",
      "application/vnd.jupyter.widget-view+json": {
       "version_major": 2,
       "version_minor": 0,
       "model_id": "54e6a15b41c549c4b25bf0b49c542438"
      }
     },
     "metadata": {},
     "output_type": "display_data"
    },
    {
     "data": {
      "text/plain": "Downloading data:   0%|          | 0.00/24.8k [00:00<?, ?B/s]",
      "application/vnd.jupyter.widget-view+json": {
       "version_major": 2,
       "version_minor": 0,
       "model_id": "b697a89ff05f40a6959080a9d6e53cf2"
      }
     },
     "metadata": {},
     "output_type": "display_data"
    },
    {
     "data": {
      "text/plain": "Downloading data:   0%|          | 0.00/25.5k [00:00<?, ?B/s]",
      "application/vnd.jupyter.widget-view+json": {
       "version_major": 2,
       "version_minor": 0,
       "model_id": "2ae2c073cdeb4f169d0e8d3325b26111"
      }
     },
     "metadata": {},
     "output_type": "display_data"
    },
    {
     "data": {
      "text/plain": "Downloading data:   0%|          | 0.00/24.6k [00:00<?, ?B/s]",
      "application/vnd.jupyter.widget-view+json": {
       "version_major": 2,
       "version_minor": 0,
       "model_id": "04c4da91bc9f464c9d1c072ca264a48b"
      }
     },
     "metadata": {},
     "output_type": "display_data"
    },
    {
     "data": {
      "text/plain": "Downloading data:   0%|          | 0.00/25.0k [00:00<?, ?B/s]",
      "application/vnd.jupyter.widget-view+json": {
       "version_major": 2,
       "version_minor": 0,
       "model_id": "a608381651964a7c8a65b37543e4560c"
      }
     },
     "metadata": {},
     "output_type": "display_data"
    },
    {
     "data": {
      "text/plain": "Downloading data:   0%|          | 0.00/24.5k [00:00<?, ?B/s]",
      "application/vnd.jupyter.widget-view+json": {
       "version_major": 2,
       "version_minor": 0,
       "model_id": "5872d15fdace41cb869e53dab0007f97"
      }
     },
     "metadata": {},
     "output_type": "display_data"
    },
    {
     "data": {
      "text/plain": "Downloading data:   0%|          | 0.00/24.5k [00:00<?, ?B/s]",
      "application/vnd.jupyter.widget-view+json": {
       "version_major": 2,
       "version_minor": 0,
       "model_id": "2c98b7a0734849dba48d3a018d79f2a7"
      }
     },
     "metadata": {},
     "output_type": "display_data"
    },
    {
     "data": {
      "text/plain": "Downloading data:   0%|          | 0.00/28.0k [00:00<?, ?B/s]",
      "application/vnd.jupyter.widget-view+json": {
       "version_major": 2,
       "version_minor": 0,
       "model_id": "dd3583be2c274200b1dbdfcf5e5defa5"
      }
     },
     "metadata": {},
     "output_type": "display_data"
    },
    {
     "data": {
      "text/plain": "Downloading data:   0%|          | 0.00/25.5k [00:00<?, ?B/s]",
      "application/vnd.jupyter.widget-view+json": {
       "version_major": 2,
       "version_minor": 0,
       "model_id": "3aeba43e764e4528b1d58df55cebb7f9"
      }
     },
     "metadata": {},
     "output_type": "display_data"
    },
    {
     "data": {
      "text/plain": "Downloading data:   0%|          | 0.00/24.7k [00:00<?, ?B/s]",
      "application/vnd.jupyter.widget-view+json": {
       "version_major": 2,
       "version_minor": 0,
       "model_id": "de2b783aad264a1d8b37d8c55159143e"
      }
     },
     "metadata": {},
     "output_type": "display_data"
    },
    {
     "data": {
      "text/plain": "Downloading data:   0%|          | 0.00/24.7k [00:00<?, ?B/s]",
      "application/vnd.jupyter.widget-view+json": {
       "version_major": 2,
       "version_minor": 0,
       "model_id": "21a23d3ef1614b78b1f2845ed4a25faf"
      }
     },
     "metadata": {},
     "output_type": "display_data"
    },
    {
     "data": {
      "text/plain": "Downloading data:   0%|          | 0.00/24.1k [00:00<?, ?B/s]",
      "application/vnd.jupyter.widget-view+json": {
       "version_major": 2,
       "version_minor": 0,
       "model_id": "b73c0716726649c38b73b817380f530e"
      }
     },
     "metadata": {},
     "output_type": "display_data"
    },
    {
     "data": {
      "text/plain": "Downloading data:   0%|          | 0.00/25.0k [00:00<?, ?B/s]",
      "application/vnd.jupyter.widget-view+json": {
       "version_major": 2,
       "version_minor": 0,
       "model_id": "b7eb1b29fbe54dba8fbd45147bd78ea2"
      }
     },
     "metadata": {},
     "output_type": "display_data"
    },
    {
     "data": {
      "text/plain": "Downloading data:   0%|          | 0.00/26.3k [00:00<?, ?B/s]",
      "application/vnd.jupyter.widget-view+json": {
       "version_major": 2,
       "version_minor": 0,
       "model_id": "5886b40e78764cec8ddaca8a55b63c59"
      }
     },
     "metadata": {},
     "output_type": "display_data"
    },
    {
     "data": {
      "text/plain": "Downloading data:   0%|          | 0.00/24.8k [00:00<?, ?B/s]",
      "application/vnd.jupyter.widget-view+json": {
       "version_major": 2,
       "version_minor": 0,
       "model_id": "e4455c7579f9433385e0152db0b043b3"
      }
     },
     "metadata": {},
     "output_type": "display_data"
    },
    {
     "data": {
      "text/plain": "Downloading data:   0%|          | 0.00/26.5k [00:00<?, ?B/s]",
      "application/vnd.jupyter.widget-view+json": {
       "version_major": 2,
       "version_minor": 0,
       "model_id": "5508fa09edd84ed5a8e8ea7f737b35f5"
      }
     },
     "metadata": {},
     "output_type": "display_data"
    },
    {
     "data": {
      "text/plain": "Downloading data:   0%|          | 0.00/26.2k [00:00<?, ?B/s]",
      "application/vnd.jupyter.widget-view+json": {
       "version_major": 2,
       "version_minor": 0,
       "model_id": "1023ffeaacf14a0186b0b098be8c4b08"
      }
     },
     "metadata": {},
     "output_type": "display_data"
    },
    {
     "data": {
      "text/plain": "Downloading data:   0%|          | 0.00/24.2k [00:00<?, ?B/s]",
      "application/vnd.jupyter.widget-view+json": {
       "version_major": 2,
       "version_minor": 0,
       "model_id": "85121ffdf890495c9f8861f93e26b9a6"
      }
     },
     "metadata": {},
     "output_type": "display_data"
    },
    {
     "data": {
      "text/plain": "Downloading data:   0%|          | 0.00/25.1k [00:00<?, ?B/s]",
      "application/vnd.jupyter.widget-view+json": {
       "version_major": 2,
       "version_minor": 0,
       "model_id": "f3680ef812a54101b2f1014f10af9aa2"
      }
     },
     "metadata": {},
     "output_type": "display_data"
    },
    {
     "data": {
      "text/plain": "Downloading data:   0%|          | 0.00/24.3k [00:00<?, ?B/s]",
      "application/vnd.jupyter.widget-view+json": {
       "version_major": 2,
       "version_minor": 0,
       "model_id": "d02ae2f921f4408883dde3901eb0d522"
      }
     },
     "metadata": {},
     "output_type": "display_data"
    },
    {
     "data": {
      "text/plain": "Downloading data:   0%|          | 0.00/24.7k [00:00<?, ?B/s]",
      "application/vnd.jupyter.widget-view+json": {
       "version_major": 2,
       "version_minor": 0,
       "model_id": "6096d0fe0e754370bccfea776e6154ad"
      }
     },
     "metadata": {},
     "output_type": "display_data"
    },
    {
     "data": {
      "text/plain": "Downloading data:   0%|          | 0.00/24.6k [00:00<?, ?B/s]",
      "application/vnd.jupyter.widget-view+json": {
       "version_major": 2,
       "version_minor": 0,
       "model_id": "39581922a63842d9ac06fae2cb0e84ea"
      }
     },
     "metadata": {},
     "output_type": "display_data"
    },
    {
     "data": {
      "text/plain": "Generating English split: 0 examples [00:00, ? examples/s]",
      "application/vnd.jupyter.widget-view+json": {
       "version_major": 2,
       "version_minor": 0,
       "model_id": "804003319173429981f78057bb731e67"
      }
     },
     "metadata": {},
     "output_type": "display_data"
    },
    {
     "data": {
      "text/plain": "Generating Russian split: 0 examples [00:00, ? examples/s]",
      "application/vnd.jupyter.widget-view+json": {
       "version_major": 2,
       "version_minor": 0,
       "model_id": "33cbbcac2e6741d890448ec19d0eff9f"
      }
     },
     "metadata": {},
     "output_type": "display_data"
    },
    {
     "data": {
      "text/plain": "Generating Chinese split: 0 examples [00:00, ? examples/s]",
      "application/vnd.jupyter.widget-view+json": {
       "version_major": 2,
       "version_minor": 0,
       "model_id": "0354eee1874945009784052aa8af280e"
      }
     },
     "metadata": {},
     "output_type": "display_data"
    },
    {
     "data": {
      "text/plain": "Generating German split: 0 examples [00:00, ? examples/s]",
      "application/vnd.jupyter.widget-view+json": {
       "version_major": 2,
       "version_minor": 0,
       "model_id": "91d8214c90a64a089f620bdd54051dcf"
      }
     },
     "metadata": {},
     "output_type": "display_data"
    },
    {
     "data": {
      "text/plain": "Generating Spanish split: 0 examples [00:00, ? examples/s]",
      "application/vnd.jupyter.widget-view+json": {
       "version_major": 2,
       "version_minor": 0,
       "model_id": "910290fd2b98410495ae3771ab12c4de"
      }
     },
     "metadata": {},
     "output_type": "display_data"
    },
    {
     "data": {
      "text/plain": "Generating French split: 0 examples [00:00, ? examples/s]",
      "application/vnd.jupyter.widget-view+json": {
       "version_major": 2,
       "version_minor": 0,
       "model_id": "9feb319a773d4f6d8aedb2f290ceafa9"
      }
     },
     "metadata": {},
     "output_type": "display_data"
    },
    {
     "data": {
      "text/plain": "Generating Italian split: 0 examples [00:00, ? examples/s]",
      "application/vnd.jupyter.widget-view+json": {
       "version_major": 2,
       "version_minor": 0,
       "model_id": "b0a784e36b1c479cbcbb94bebd062633"
      }
     },
     "metadata": {},
     "output_type": "display_data"
    },
    {
     "data": {
      "text/plain": "Generating Portuguese split: 0 examples [00:00, ? examples/s]",
      "application/vnd.jupyter.widget-view+json": {
       "version_major": 2,
       "version_minor": 0,
       "model_id": "59b926e142c849adb8b857aea45fbdc2"
      }
     },
     "metadata": {},
     "output_type": "display_data"
    },
    {
     "data": {
      "text/plain": "Generating Greek split: 0 examples [00:00, ? examples/s]",
      "application/vnd.jupyter.widget-view+json": {
       "version_major": 2,
       "version_minor": 0,
       "model_id": "7722ea54f5da4558bd6ecfc94d17c3dd"
      }
     },
     "metadata": {},
     "output_type": "display_data"
    },
    {
     "data": {
      "text/plain": "Generating Hungarian split: 0 examples [00:00, ? examples/s]",
      "application/vnd.jupyter.widget-view+json": {
       "version_major": 2,
       "version_minor": 0,
       "model_id": "c615730928e6446d97085d7ff3046b86"
      }
     },
     "metadata": {},
     "output_type": "display_data"
    },
    {
     "data": {
      "text/plain": "Generating Dutch split: 0 examples [00:00, ? examples/s]",
      "application/vnd.jupyter.widget-view+json": {
       "version_major": 2,
       "version_minor": 0,
       "model_id": "f449eac00b484a30be94fb5dc4327141"
      }
     },
     "metadata": {},
     "output_type": "display_data"
    },
    {
     "data": {
      "text/plain": "Generating Finnish split: 0 examples [00:00, ? examples/s]",
      "application/vnd.jupyter.widget-view+json": {
       "version_major": 2,
       "version_minor": 0,
       "model_id": "7758848a8ced4bfd90f8d99055313a99"
      }
     },
     "metadata": {},
     "output_type": "display_data"
    },
    {
     "data": {
      "text/plain": "Generating Indonesian split: 0 examples [00:00, ? examples/s]",
      "application/vnd.jupyter.widget-view+json": {
       "version_major": 2,
       "version_minor": 0,
       "model_id": "39f5c17f64f84a10949086fd105ed73d"
      }
     },
     "metadata": {},
     "output_type": "display_data"
    },
    {
     "data": {
      "text/plain": "Generating Turkish split: 0 examples [00:00, ? examples/s]",
      "application/vnd.jupyter.widget-view+json": {
       "version_major": 2,
       "version_minor": 0,
       "model_id": "95641381842349e680986cf1f460aac2"
      }
     },
     "metadata": {},
     "output_type": "display_data"
    },
    {
     "data": {
      "text/plain": "Generating Arabic split: 0 examples [00:00, ? examples/s]",
      "application/vnd.jupyter.widget-view+json": {
       "version_major": 2,
       "version_minor": 0,
       "model_id": "28c24cb02fbe4a64b166e4b17bbf03a8"
      }
     },
     "metadata": {},
     "output_type": "display_data"
    },
    {
     "data": {
      "text/plain": "Generating Vietnamese split: 0 examples [00:00, ? examples/s]",
      "application/vnd.jupyter.widget-view+json": {
       "version_major": 2,
       "version_minor": 0,
       "model_id": "59bc87de4a8b4075a2a5fc3140e0e37c"
      }
     },
     "metadata": {},
     "output_type": "display_data"
    },
    {
     "data": {
      "text/plain": "Generating Bulgarian split: 0 examples [00:00, ? examples/s]",
      "application/vnd.jupyter.widget-view+json": {
       "version_major": 2,
       "version_minor": 0,
       "model_id": "0bb3b45cdd8d4a018de6a6c1746d11ae"
      }
     },
     "metadata": {},
     "output_type": "display_data"
    },
    {
     "data": {
      "text/plain": "Generating Persian split: 0 examples [00:00, ? examples/s]",
      "application/vnd.jupyter.widget-view+json": {
       "version_major": 2,
       "version_minor": 0,
       "model_id": "728ef632ef3648b3acc57d9e402a907a"
      }
     },
     "metadata": {},
     "output_type": "display_data"
    },
    {
     "data": {
      "text/plain": "Generating Malay split: 0 examples [00:00, ? examples/s]",
      "application/vnd.jupyter.widget-view+json": {
       "version_major": 2,
       "version_minor": 0,
       "model_id": "8f38ebfd7ab34e85bced8bd011169d46"
      }
     },
     "metadata": {},
     "output_type": "display_data"
    },
    {
     "data": {
      "text/plain": "Generating Hebrew split: 0 examples [00:00, ? examples/s]",
      "application/vnd.jupyter.widget-view+json": {
       "version_major": 2,
       "version_minor": 0,
       "model_id": "f2ebe419c882432893a8236538b0b002"
      }
     },
     "metadata": {},
     "output_type": "display_data"
    },
    {
     "data": {
      "text/plain": "Generating Estonian split: 0 examples [00:00, ? examples/s]",
      "application/vnd.jupyter.widget-view+json": {
       "version_major": 2,
       "version_minor": 0,
       "model_id": "2179eba177ae45e7ad869870166e99c8"
      }
     },
     "metadata": {},
     "output_type": "display_data"
    },
    {
     "data": {
      "text/plain": "Generating Tagalog split: 0 examples [00:00, ? examples/s]",
      "application/vnd.jupyter.widget-view+json": {
       "version_major": 2,
       "version_minor": 0,
       "model_id": "386ee424d5f7486e9968d2ed95cbee4c"
      }
     },
     "metadata": {},
     "output_type": "display_data"
    },
    {
     "data": {
      "text/plain": "Generating Afrikaans split: 0 examples [00:00, ? examples/s]",
      "application/vnd.jupyter.widget-view+json": {
       "version_major": 2,
       "version_minor": 0,
       "model_id": "95bba1ab4e7c4f25878c77b53e7deef7"
      }
     },
     "metadata": {},
     "output_type": "display_data"
    }
   ],
   "source": [
    "ds = datasets.load_dataset(\"FloatAI/HumanEval-XL\", \"python\")"
   ],
   "metadata": {
    "collapsed": false,
    "ExecuteTime": {
     "end_time": "2024-03-27T15:16:36.669656Z",
     "start_time": "2024-03-27T15:16:29.407384Z"
    }
   },
   "id": "ca2df74322583f2b",
   "execution_count": 52
  },
  {
   "cell_type": "code",
   "outputs": [
    {
     "name": "stdout",
     "output_type": "stream",
     "text": [
      "TASK_ID\n",
      "python/10\n",
      "___________\n",
      "LANGUAGE\n",
      "python\n",
      "___________\n",
      "PROMPT\n",
      "\n",
      "\n",
      "def unique(l: list):\n",
      "    \"\"\"Return sorted unique elements in a list\n",
      "    >>> unique([5, 3, 5, 2, 3, 3, 9, 0, 123])\n",
      "    [0, 2, 3, 5, 9, 123]\n",
      "    \"\"\"\n",
      "\n",
      "___________\n",
      "DESCRIPTION\n",
      "Return sorted unique elements in a list\n",
      "    >>> unique([5, 3, 5, 2, 3, 3, 9, 0, 123])\n",
      "    [0, 2, 3, 5, 9, 123]\n",
      "___________\n",
      "TEST\n",
      "\n",
      "\n",
      "METADATA = {}\n",
      "\n",
      "\n",
      "def check(candidate):\n",
      "    assert candidate([5, 3, 5, 2, 3, 3, 9, 0, 123]) == [0, 2, 3, 5, 9, 123]\n",
      "\n",
      "\n",
      "___________\n",
      "ENTRY_POINT\n",
      "unique\n",
      "___________\n",
      "CANONICAL_SOLUTION\n",
      "    return sorted(list(set(l)))\n",
      "\n",
      "___________\n",
      "NATURAL_LANGUAGE\n",
      "English\n",
      "___________\n"
     ]
    }
   ],
   "source": [
    "for key in ['task_id', 'language', 'prompt', 'description', 'test', 'entry_point', 'canonical_solution', 'natural_language']:\n",
    "    print(key.upper())\n",
    "    print(ds['English'][key][10])\n",
    "    print('___________')"
   ],
   "metadata": {
    "collapsed": false,
    "ExecuteTime": {
     "end_time": "2024-03-27T15:20:07.945980Z",
     "start_time": "2024-03-27T15:20:07.941865Z"
    }
   },
   "id": "a951dbfcd309211f",
   "execution_count": 64
  },
  {
   "cell_type": "code",
   "outputs": [
    {
     "data": {
      "text/plain": "80"
     },
     "execution_count": 65,
     "metadata": {},
     "output_type": "execute_result"
    }
   ],
   "source": [
    "len(ds['English'])"
   ],
   "metadata": {
    "collapsed": false,
    "ExecuteTime": {
     "end_time": "2024-03-27T15:20:15.852172Z",
     "start_time": "2024-03-27T15:20:15.849852Z"
    }
   },
   "id": "ad18776fc8108f9b",
   "execution_count": 65
  },
  {
   "cell_type": "code",
   "outputs": [],
   "source": [],
   "metadata": {
    "collapsed": false
   },
   "id": "f9455c98b8f8d1ce"
  }
 ],
 "metadata": {
  "kernelspec": {
   "display_name": "Python 3",
   "language": "python",
   "name": "python3"
  },
  "language_info": {
   "codemirror_mode": {
    "name": "ipython",
    "version": 2
   },
   "file_extension": ".py",
   "mimetype": "text/x-python",
   "name": "python",
   "nbconvert_exporter": "python",
   "pygments_lexer": "ipython2",
   "version": "2.7.6"
  }
 },
 "nbformat": 4,
 "nbformat_minor": 5
}
